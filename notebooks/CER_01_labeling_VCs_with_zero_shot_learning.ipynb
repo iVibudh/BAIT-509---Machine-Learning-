{
  "nbformat": 4,
  "nbformat_minor": 0,
  "metadata": {
    "colab": {
      "name": "02_labeling_VCs_with_zero_shot_learning.ipynb",
      "provenance": [],
      "collapsed_sections": [
        "eisQjUpD-eLf",
        "_8rHj6q5-tC5",
        "tBRuBx98-wWg",
        "XQV6qG0kX77D",
        "KEBK8eH_cyln"
      ],
      "machine_shape": "hm",
      "include_colab_link": true
    },
    "kernelspec": {
      "name": "python3",
      "display_name": "Python 3"
    },
    "language_info": {
      "name": "python"
    },
    "accelerator": "GPU",
    "widgets": {
      "application/vnd.jupyter.widget-state+json": {
        "6acc0c12ede74f56ae2d2f6abceda90f": {
          "model_module": "@jupyter-widgets/controls",
          "model_name": "HBoxModel",
          "model_module_version": "1.5.0",
          "state": {
            "_view_name": "HBoxView",
            "_dom_classes": [],
            "_model_name": "HBoxModel",
            "_view_module": "@jupyter-widgets/controls",
            "_model_module_version": "1.5.0",
            "_view_count": null,
            "_view_module_version": "1.5.0",
            "box_style": "",
            "layout": "IPY_MODEL_2e2a8761f188447eaa13f2516908b657",
            "_model_module": "@jupyter-widgets/controls",
            "children": [
              "IPY_MODEL_848fc13b7f2d43f1b3bf205ae668c87d",
              "IPY_MODEL_8875737dea3c44ad9ef85451307095af",
              "IPY_MODEL_3f770c5724ae4b3a908ed5cff6b6e8bc"
            ]
          }
        },
        "2e2a8761f188447eaa13f2516908b657": {
          "model_module": "@jupyter-widgets/base",
          "model_name": "LayoutModel",
          "model_module_version": "1.2.0",
          "state": {
            "_view_name": "LayoutView",
            "grid_template_rows": null,
            "right": null,
            "justify_content": null,
            "_view_module": "@jupyter-widgets/base",
            "overflow": null,
            "_model_module_version": "1.2.0",
            "_view_count": null,
            "flex_flow": null,
            "width": null,
            "min_width": null,
            "border": null,
            "align_items": null,
            "bottom": null,
            "_model_module": "@jupyter-widgets/base",
            "top": null,
            "grid_column": null,
            "overflow_y": null,
            "overflow_x": null,
            "grid_auto_flow": null,
            "grid_area": null,
            "grid_template_columns": null,
            "flex": null,
            "_model_name": "LayoutModel",
            "justify_items": null,
            "grid_row": null,
            "max_height": null,
            "align_content": null,
            "visibility": null,
            "align_self": null,
            "height": null,
            "min_height": null,
            "padding": null,
            "grid_auto_rows": null,
            "grid_gap": null,
            "max_width": null,
            "order": null,
            "_view_module_version": "1.2.0",
            "grid_template_areas": null,
            "object_position": null,
            "object_fit": null,
            "grid_auto_columns": null,
            "margin": null,
            "display": null,
            "left": null
          }
        },
        "848fc13b7f2d43f1b3bf205ae668c87d": {
          "model_module": "@jupyter-widgets/controls",
          "model_name": "HTMLModel",
          "model_module_version": "1.5.0",
          "state": {
            "_view_name": "HTMLView",
            "style": "IPY_MODEL_260952bf2da942919cb61b0ce1876b9a",
            "_dom_classes": [],
            "description": "",
            "_model_name": "HTMLModel",
            "placeholder": "​",
            "_view_module": "@jupyter-widgets/controls",
            "_model_module_version": "1.5.0",
            "value": "Downloading: 100%",
            "_view_count": null,
            "_view_module_version": "1.5.0",
            "description_tooltip": null,
            "_model_module": "@jupyter-widgets/controls",
            "layout": "IPY_MODEL_e568a84f45d94c03b937b488a705b72b"
          }
        },
        "8875737dea3c44ad9ef85451307095af": {
          "model_module": "@jupyter-widgets/controls",
          "model_name": "FloatProgressModel",
          "model_module_version": "1.5.0",
          "state": {
            "_view_name": "ProgressView",
            "style": "IPY_MODEL_69ece20357c743bd8ebc866a372081a9",
            "_dom_classes": [],
            "description": "",
            "_model_name": "FloatProgressModel",
            "bar_style": "success",
            "max": 1154,
            "_view_module": "@jupyter-widgets/controls",
            "_model_module_version": "1.5.0",
            "value": 1154,
            "_view_count": null,
            "_view_module_version": "1.5.0",
            "orientation": "horizontal",
            "min": 0,
            "description_tooltip": null,
            "_model_module": "@jupyter-widgets/controls",
            "layout": "IPY_MODEL_2ba1064fcbcf4a7f9bc715363504dbd5"
          }
        },
        "3f770c5724ae4b3a908ed5cff6b6e8bc": {
          "model_module": "@jupyter-widgets/controls",
          "model_name": "HTMLModel",
          "model_module_version": "1.5.0",
          "state": {
            "_view_name": "HTMLView",
            "style": "IPY_MODEL_168fe836e28e42099ff08a4474cf84cf",
            "_dom_classes": [],
            "description": "",
            "_model_name": "HTMLModel",
            "placeholder": "​",
            "_view_module": "@jupyter-widgets/controls",
            "_model_module_version": "1.5.0",
            "value": " 1.13k/1.13k [00:00&lt;00:00, 24.6kB/s]",
            "_view_count": null,
            "_view_module_version": "1.5.0",
            "description_tooltip": null,
            "_model_module": "@jupyter-widgets/controls",
            "layout": "IPY_MODEL_0c2b4745ee6f4806a4ca21447e0fbdb4"
          }
        },
        "260952bf2da942919cb61b0ce1876b9a": {
          "model_module": "@jupyter-widgets/controls",
          "model_name": "DescriptionStyleModel",
          "model_module_version": "1.5.0",
          "state": {
            "_view_name": "StyleView",
            "_model_name": "DescriptionStyleModel",
            "description_width": "",
            "_view_module": "@jupyter-widgets/base",
            "_model_module_version": "1.5.0",
            "_view_count": null,
            "_view_module_version": "1.2.0",
            "_model_module": "@jupyter-widgets/controls"
          }
        },
        "e568a84f45d94c03b937b488a705b72b": {
          "model_module": "@jupyter-widgets/base",
          "model_name": "LayoutModel",
          "model_module_version": "1.2.0",
          "state": {
            "_view_name": "LayoutView",
            "grid_template_rows": null,
            "right": null,
            "justify_content": null,
            "_view_module": "@jupyter-widgets/base",
            "overflow": null,
            "_model_module_version": "1.2.0",
            "_view_count": null,
            "flex_flow": null,
            "width": null,
            "min_width": null,
            "border": null,
            "align_items": null,
            "bottom": null,
            "_model_module": "@jupyter-widgets/base",
            "top": null,
            "grid_column": null,
            "overflow_y": null,
            "overflow_x": null,
            "grid_auto_flow": null,
            "grid_area": null,
            "grid_template_columns": null,
            "flex": null,
            "_model_name": "LayoutModel",
            "justify_items": null,
            "grid_row": null,
            "max_height": null,
            "align_content": null,
            "visibility": null,
            "align_self": null,
            "height": null,
            "min_height": null,
            "padding": null,
            "grid_auto_rows": null,
            "grid_gap": null,
            "max_width": null,
            "order": null,
            "_view_module_version": "1.2.0",
            "grid_template_areas": null,
            "object_position": null,
            "object_fit": null,
            "grid_auto_columns": null,
            "margin": null,
            "display": null,
            "left": null
          }
        },
        "69ece20357c743bd8ebc866a372081a9": {
          "model_module": "@jupyter-widgets/controls",
          "model_name": "ProgressStyleModel",
          "model_module_version": "1.5.0",
          "state": {
            "_view_name": "StyleView",
            "_model_name": "ProgressStyleModel",
            "description_width": "",
            "_view_module": "@jupyter-widgets/base",
            "_model_module_version": "1.5.0",
            "_view_count": null,
            "_view_module_version": "1.2.0",
            "bar_color": null,
            "_model_module": "@jupyter-widgets/controls"
          }
        },
        "2ba1064fcbcf4a7f9bc715363504dbd5": {
          "model_module": "@jupyter-widgets/base",
          "model_name": "LayoutModel",
          "model_module_version": "1.2.0",
          "state": {
            "_view_name": "LayoutView",
            "grid_template_rows": null,
            "right": null,
            "justify_content": null,
            "_view_module": "@jupyter-widgets/base",
            "overflow": null,
            "_model_module_version": "1.2.0",
            "_view_count": null,
            "flex_flow": null,
            "width": null,
            "min_width": null,
            "border": null,
            "align_items": null,
            "bottom": null,
            "_model_module": "@jupyter-widgets/base",
            "top": null,
            "grid_column": null,
            "overflow_y": null,
            "overflow_x": null,
            "grid_auto_flow": null,
            "grid_area": null,
            "grid_template_columns": null,
            "flex": null,
            "_model_name": "LayoutModel",
            "justify_items": null,
            "grid_row": null,
            "max_height": null,
            "align_content": null,
            "visibility": null,
            "align_self": null,
            "height": null,
            "min_height": null,
            "padding": null,
            "grid_auto_rows": null,
            "grid_gap": null,
            "max_width": null,
            "order": null,
            "_view_module_version": "1.2.0",
            "grid_template_areas": null,
            "object_position": null,
            "object_fit": null,
            "grid_auto_columns": null,
            "margin": null,
            "display": null,
            "left": null
          }
        },
        "168fe836e28e42099ff08a4474cf84cf": {
          "model_module": "@jupyter-widgets/controls",
          "model_name": "DescriptionStyleModel",
          "model_module_version": "1.5.0",
          "state": {
            "_view_name": "StyleView",
            "_model_name": "DescriptionStyleModel",
            "description_width": "",
            "_view_module": "@jupyter-widgets/base",
            "_model_module_version": "1.5.0",
            "_view_count": null,
            "_view_module_version": "1.2.0",
            "_model_module": "@jupyter-widgets/controls"
          }
        },
        "0c2b4745ee6f4806a4ca21447e0fbdb4": {
          "model_module": "@jupyter-widgets/base",
          "model_name": "LayoutModel",
          "model_module_version": "1.2.0",
          "state": {
            "_view_name": "LayoutView",
            "grid_template_rows": null,
            "right": null,
            "justify_content": null,
            "_view_module": "@jupyter-widgets/base",
            "overflow": null,
            "_model_module_version": "1.2.0",
            "_view_count": null,
            "flex_flow": null,
            "width": null,
            "min_width": null,
            "border": null,
            "align_items": null,
            "bottom": null,
            "_model_module": "@jupyter-widgets/base",
            "top": null,
            "grid_column": null,
            "overflow_y": null,
            "overflow_x": null,
            "grid_auto_flow": null,
            "grid_area": null,
            "grid_template_columns": null,
            "flex": null,
            "_model_name": "LayoutModel",
            "justify_items": null,
            "grid_row": null,
            "max_height": null,
            "align_content": null,
            "visibility": null,
            "align_self": null,
            "height": null,
            "min_height": null,
            "padding": null,
            "grid_auto_rows": null,
            "grid_gap": null,
            "max_width": null,
            "order": null,
            "_view_module_version": "1.2.0",
            "grid_template_areas": null,
            "object_position": null,
            "object_fit": null,
            "grid_auto_columns": null,
            "margin": null,
            "display": null,
            "left": null
          }
        },
        "2d3b8a758b984a68a863567b16a082fe": {
          "model_module": "@jupyter-widgets/controls",
          "model_name": "HBoxModel",
          "model_module_version": "1.5.0",
          "state": {
            "_view_name": "HBoxView",
            "_dom_classes": [],
            "_model_name": "HBoxModel",
            "_view_module": "@jupyter-widgets/controls",
            "_model_module_version": "1.5.0",
            "_view_count": null,
            "_view_module_version": "1.5.0",
            "box_style": "",
            "layout": "IPY_MODEL_91fb1c346c9649c4b684c05e4cc811d3",
            "_model_module": "@jupyter-widgets/controls",
            "children": [
              "IPY_MODEL_d06b09ce9c7945c38b14508b3e8d1a8b",
              "IPY_MODEL_8ad454afb8584abd87e1c26b599f90ce",
              "IPY_MODEL_357b349c6a8f441590d861dc1cb34447"
            ]
          }
        },
        "91fb1c346c9649c4b684c05e4cc811d3": {
          "model_module": "@jupyter-widgets/base",
          "model_name": "LayoutModel",
          "model_module_version": "1.2.0",
          "state": {
            "_view_name": "LayoutView",
            "grid_template_rows": null,
            "right": null,
            "justify_content": null,
            "_view_module": "@jupyter-widgets/base",
            "overflow": null,
            "_model_module_version": "1.2.0",
            "_view_count": null,
            "flex_flow": null,
            "width": null,
            "min_width": null,
            "border": null,
            "align_items": null,
            "bottom": null,
            "_model_module": "@jupyter-widgets/base",
            "top": null,
            "grid_column": null,
            "overflow_y": null,
            "overflow_x": null,
            "grid_auto_flow": null,
            "grid_area": null,
            "grid_template_columns": null,
            "flex": null,
            "_model_name": "LayoutModel",
            "justify_items": null,
            "grid_row": null,
            "max_height": null,
            "align_content": null,
            "visibility": null,
            "align_self": null,
            "height": null,
            "min_height": null,
            "padding": null,
            "grid_auto_rows": null,
            "grid_gap": null,
            "max_width": null,
            "order": null,
            "_view_module_version": "1.2.0",
            "grid_template_areas": null,
            "object_position": null,
            "object_fit": null,
            "grid_auto_columns": null,
            "margin": null,
            "display": null,
            "left": null
          }
        },
        "d06b09ce9c7945c38b14508b3e8d1a8b": {
          "model_module": "@jupyter-widgets/controls",
          "model_name": "HTMLModel",
          "model_module_version": "1.5.0",
          "state": {
            "_view_name": "HTMLView",
            "style": "IPY_MODEL_fc7fa832810c4e92ba2369cf6ec4cdb2",
            "_dom_classes": [],
            "description": "",
            "_model_name": "HTMLModel",
            "placeholder": "​",
            "_view_module": "@jupyter-widgets/controls",
            "_model_module_version": "1.5.0",
            "value": "Downloading: 100%",
            "_view_count": null,
            "_view_module_version": "1.5.0",
            "description_tooltip": null,
            "_model_module": "@jupyter-widgets/controls",
            "layout": "IPY_MODEL_6d85aa60090a4580a90af985411df492"
          }
        },
        "8ad454afb8584abd87e1c26b599f90ce": {
          "model_module": "@jupyter-widgets/controls",
          "model_name": "FloatProgressModel",
          "model_module_version": "1.5.0",
          "state": {
            "_view_name": "ProgressView",
            "style": "IPY_MODEL_c18e7835630d44aaa9497fd8795fee5f",
            "_dom_classes": [],
            "description": "",
            "_model_name": "FloatProgressModel",
            "bar_style": "success",
            "max": 1629486723,
            "_view_module": "@jupyter-widgets/controls",
            "_model_module_version": "1.5.0",
            "value": 1629486723,
            "_view_count": null,
            "_view_module_version": "1.5.0",
            "orientation": "horizontal",
            "min": 0,
            "description_tooltip": null,
            "_model_module": "@jupyter-widgets/controls",
            "layout": "IPY_MODEL_3e95c435c29a48c2a6d39b5a1ea72c2a"
          }
        },
        "357b349c6a8f441590d861dc1cb34447": {
          "model_module": "@jupyter-widgets/controls",
          "model_name": "HTMLModel",
          "model_module_version": "1.5.0",
          "state": {
            "_view_name": "HTMLView",
            "style": "IPY_MODEL_0fc3e431ad444a2c9dedc0b041cb8a35",
            "_dom_classes": [],
            "description": "",
            "_model_name": "HTMLModel",
            "placeholder": "​",
            "_view_module": "@jupyter-widgets/controls",
            "_model_module_version": "1.5.0",
            "value": " 1.52G/1.52G [00:28&lt;00:00, 59.2MB/s]",
            "_view_count": null,
            "_view_module_version": "1.5.0",
            "description_tooltip": null,
            "_model_module": "@jupyter-widgets/controls",
            "layout": "IPY_MODEL_bd727954cfef4e9bab2e19d454c49b5c"
          }
        },
        "fc7fa832810c4e92ba2369cf6ec4cdb2": {
          "model_module": "@jupyter-widgets/controls",
          "model_name": "DescriptionStyleModel",
          "model_module_version": "1.5.0",
          "state": {
            "_view_name": "StyleView",
            "_model_name": "DescriptionStyleModel",
            "description_width": "",
            "_view_module": "@jupyter-widgets/base",
            "_model_module_version": "1.5.0",
            "_view_count": null,
            "_view_module_version": "1.2.0",
            "_model_module": "@jupyter-widgets/controls"
          }
        },
        "6d85aa60090a4580a90af985411df492": {
          "model_module": "@jupyter-widgets/base",
          "model_name": "LayoutModel",
          "model_module_version": "1.2.0",
          "state": {
            "_view_name": "LayoutView",
            "grid_template_rows": null,
            "right": null,
            "justify_content": null,
            "_view_module": "@jupyter-widgets/base",
            "overflow": null,
            "_model_module_version": "1.2.0",
            "_view_count": null,
            "flex_flow": null,
            "width": null,
            "min_width": null,
            "border": null,
            "align_items": null,
            "bottom": null,
            "_model_module": "@jupyter-widgets/base",
            "top": null,
            "grid_column": null,
            "overflow_y": null,
            "overflow_x": null,
            "grid_auto_flow": null,
            "grid_area": null,
            "grid_template_columns": null,
            "flex": null,
            "_model_name": "LayoutModel",
            "justify_items": null,
            "grid_row": null,
            "max_height": null,
            "align_content": null,
            "visibility": null,
            "align_self": null,
            "height": null,
            "min_height": null,
            "padding": null,
            "grid_auto_rows": null,
            "grid_gap": null,
            "max_width": null,
            "order": null,
            "_view_module_version": "1.2.0",
            "grid_template_areas": null,
            "object_position": null,
            "object_fit": null,
            "grid_auto_columns": null,
            "margin": null,
            "display": null,
            "left": null
          }
        },
        "c18e7835630d44aaa9497fd8795fee5f": {
          "model_module": "@jupyter-widgets/controls",
          "model_name": "ProgressStyleModel",
          "model_module_version": "1.5.0",
          "state": {
            "_view_name": "StyleView",
            "_model_name": "ProgressStyleModel",
            "description_width": "",
            "_view_module": "@jupyter-widgets/base",
            "_model_module_version": "1.5.0",
            "_view_count": null,
            "_view_module_version": "1.2.0",
            "bar_color": null,
            "_model_module": "@jupyter-widgets/controls"
          }
        },
        "3e95c435c29a48c2a6d39b5a1ea72c2a": {
          "model_module": "@jupyter-widgets/base",
          "model_name": "LayoutModel",
          "model_module_version": "1.2.0",
          "state": {
            "_view_name": "LayoutView",
            "grid_template_rows": null,
            "right": null,
            "justify_content": null,
            "_view_module": "@jupyter-widgets/base",
            "overflow": null,
            "_model_module_version": "1.2.0",
            "_view_count": null,
            "flex_flow": null,
            "width": null,
            "min_width": null,
            "border": null,
            "align_items": null,
            "bottom": null,
            "_model_module": "@jupyter-widgets/base",
            "top": null,
            "grid_column": null,
            "overflow_y": null,
            "overflow_x": null,
            "grid_auto_flow": null,
            "grid_area": null,
            "grid_template_columns": null,
            "flex": null,
            "_model_name": "LayoutModel",
            "justify_items": null,
            "grid_row": null,
            "max_height": null,
            "align_content": null,
            "visibility": null,
            "align_self": null,
            "height": null,
            "min_height": null,
            "padding": null,
            "grid_auto_rows": null,
            "grid_gap": null,
            "max_width": null,
            "order": null,
            "_view_module_version": "1.2.0",
            "grid_template_areas": null,
            "object_position": null,
            "object_fit": null,
            "grid_auto_columns": null,
            "margin": null,
            "display": null,
            "left": null
          }
        },
        "0fc3e431ad444a2c9dedc0b041cb8a35": {
          "model_module": "@jupyter-widgets/controls",
          "model_name": "DescriptionStyleModel",
          "model_module_version": "1.5.0",
          "state": {
            "_view_name": "StyleView",
            "_model_name": "DescriptionStyleModel",
            "description_width": "",
            "_view_module": "@jupyter-widgets/base",
            "_model_module_version": "1.5.0",
            "_view_count": null,
            "_view_module_version": "1.2.0",
            "_model_module": "@jupyter-widgets/controls"
          }
        },
        "bd727954cfef4e9bab2e19d454c49b5c": {
          "model_module": "@jupyter-widgets/base",
          "model_name": "LayoutModel",
          "model_module_version": "1.2.0",
          "state": {
            "_view_name": "LayoutView",
            "grid_template_rows": null,
            "right": null,
            "justify_content": null,
            "_view_module": "@jupyter-widgets/base",
            "overflow": null,
            "_model_module_version": "1.2.0",
            "_view_count": null,
            "flex_flow": null,
            "width": null,
            "min_width": null,
            "border": null,
            "align_items": null,
            "bottom": null,
            "_model_module": "@jupyter-widgets/base",
            "top": null,
            "grid_column": null,
            "overflow_y": null,
            "overflow_x": null,
            "grid_auto_flow": null,
            "grid_area": null,
            "grid_template_columns": null,
            "flex": null,
            "_model_name": "LayoutModel",
            "justify_items": null,
            "grid_row": null,
            "max_height": null,
            "align_content": null,
            "visibility": null,
            "align_self": null,
            "height": null,
            "min_height": null,
            "padding": null,
            "grid_auto_rows": null,
            "grid_gap": null,
            "max_width": null,
            "order": null,
            "_view_module_version": "1.2.0",
            "grid_template_areas": null,
            "object_position": null,
            "object_fit": null,
            "grid_auto_columns": null,
            "margin": null,
            "display": null,
            "left": null
          }
        },
        "52c1f261511c412ca80f2e1beea9d578": {
          "model_module": "@jupyter-widgets/controls",
          "model_name": "HBoxModel",
          "model_module_version": "1.5.0",
          "state": {
            "_view_name": "HBoxView",
            "_dom_classes": [],
            "_model_name": "HBoxModel",
            "_view_module": "@jupyter-widgets/controls",
            "_model_module_version": "1.5.0",
            "_view_count": null,
            "_view_module_version": "1.5.0",
            "box_style": "",
            "layout": "IPY_MODEL_5bc7eaf233004b48bfd699d5348da39f",
            "_model_module": "@jupyter-widgets/controls",
            "children": [
              "IPY_MODEL_2cf696340013425a966e17d98edd45ba",
              "IPY_MODEL_4a33e5054f26484eba01110f092c9f6b",
              "IPY_MODEL_4ab2ae14ef77497f9c82b1f7de8c353f"
            ]
          }
        },
        "5bc7eaf233004b48bfd699d5348da39f": {
          "model_module": "@jupyter-widgets/base",
          "model_name": "LayoutModel",
          "model_module_version": "1.2.0",
          "state": {
            "_view_name": "LayoutView",
            "grid_template_rows": null,
            "right": null,
            "justify_content": null,
            "_view_module": "@jupyter-widgets/base",
            "overflow": null,
            "_model_module_version": "1.2.0",
            "_view_count": null,
            "flex_flow": null,
            "width": null,
            "min_width": null,
            "border": null,
            "align_items": null,
            "bottom": null,
            "_model_module": "@jupyter-widgets/base",
            "top": null,
            "grid_column": null,
            "overflow_y": null,
            "overflow_x": null,
            "grid_auto_flow": null,
            "grid_area": null,
            "grid_template_columns": null,
            "flex": null,
            "_model_name": "LayoutModel",
            "justify_items": null,
            "grid_row": null,
            "max_height": null,
            "align_content": null,
            "visibility": null,
            "align_self": null,
            "height": null,
            "min_height": null,
            "padding": null,
            "grid_auto_rows": null,
            "grid_gap": null,
            "max_width": null,
            "order": null,
            "_view_module_version": "1.2.0",
            "grid_template_areas": null,
            "object_position": null,
            "object_fit": null,
            "grid_auto_columns": null,
            "margin": null,
            "display": null,
            "left": null
          }
        },
        "2cf696340013425a966e17d98edd45ba": {
          "model_module": "@jupyter-widgets/controls",
          "model_name": "HTMLModel",
          "model_module_version": "1.5.0",
          "state": {
            "_view_name": "HTMLView",
            "style": "IPY_MODEL_26b73b13d48e4118bb22d4116a769e43",
            "_dom_classes": [],
            "description": "",
            "_model_name": "HTMLModel",
            "placeholder": "​",
            "_view_module": "@jupyter-widgets/controls",
            "_model_module_version": "1.5.0",
            "value": "Downloading: 100%",
            "_view_count": null,
            "_view_module_version": "1.5.0",
            "description_tooltip": null,
            "_model_module": "@jupyter-widgets/controls",
            "layout": "IPY_MODEL_af227674ada641f8ac3a0378805ef275"
          }
        },
        "4a33e5054f26484eba01110f092c9f6b": {
          "model_module": "@jupyter-widgets/controls",
          "model_name": "FloatProgressModel",
          "model_module_version": "1.5.0",
          "state": {
            "_view_name": "ProgressView",
            "style": "IPY_MODEL_8fb1e7a2312344ca8f8be8fa3350c166",
            "_dom_classes": [],
            "description": "",
            "_model_name": "FloatProgressModel",
            "bar_style": "success",
            "max": 26,
            "_view_module": "@jupyter-widgets/controls",
            "_model_module_version": "1.5.0",
            "value": 26,
            "_view_count": null,
            "_view_module_version": "1.5.0",
            "orientation": "horizontal",
            "min": 0,
            "description_tooltip": null,
            "_model_module": "@jupyter-widgets/controls",
            "layout": "IPY_MODEL_ff4ecfa00c9c49c29bc9332983796647"
          }
        },
        "4ab2ae14ef77497f9c82b1f7de8c353f": {
          "model_module": "@jupyter-widgets/controls",
          "model_name": "HTMLModel",
          "model_module_version": "1.5.0",
          "state": {
            "_view_name": "HTMLView",
            "style": "IPY_MODEL_838bc669f03c45aa9d7222d0fc9a7a45",
            "_dom_classes": [],
            "description": "",
            "_model_name": "HTMLModel",
            "placeholder": "​",
            "_view_module": "@jupyter-widgets/controls",
            "_model_module_version": "1.5.0",
            "value": " 26.0/26.0 [00:00&lt;00:00, 1.07kB/s]",
            "_view_count": null,
            "_view_module_version": "1.5.0",
            "description_tooltip": null,
            "_model_module": "@jupyter-widgets/controls",
            "layout": "IPY_MODEL_f6ca533c94ab4a66aa79b9dabd587dd2"
          }
        },
        "26b73b13d48e4118bb22d4116a769e43": {
          "model_module": "@jupyter-widgets/controls",
          "model_name": "DescriptionStyleModel",
          "model_module_version": "1.5.0",
          "state": {
            "_view_name": "StyleView",
            "_model_name": "DescriptionStyleModel",
            "description_width": "",
            "_view_module": "@jupyter-widgets/base",
            "_model_module_version": "1.5.0",
            "_view_count": null,
            "_view_module_version": "1.2.0",
            "_model_module": "@jupyter-widgets/controls"
          }
        },
        "af227674ada641f8ac3a0378805ef275": {
          "model_module": "@jupyter-widgets/base",
          "model_name": "LayoutModel",
          "model_module_version": "1.2.0",
          "state": {
            "_view_name": "LayoutView",
            "grid_template_rows": null,
            "right": null,
            "justify_content": null,
            "_view_module": "@jupyter-widgets/base",
            "overflow": null,
            "_model_module_version": "1.2.0",
            "_view_count": null,
            "flex_flow": null,
            "width": null,
            "min_width": null,
            "border": null,
            "align_items": null,
            "bottom": null,
            "_model_module": "@jupyter-widgets/base",
            "top": null,
            "grid_column": null,
            "overflow_y": null,
            "overflow_x": null,
            "grid_auto_flow": null,
            "grid_area": null,
            "grid_template_columns": null,
            "flex": null,
            "_model_name": "LayoutModel",
            "justify_items": null,
            "grid_row": null,
            "max_height": null,
            "align_content": null,
            "visibility": null,
            "align_self": null,
            "height": null,
            "min_height": null,
            "padding": null,
            "grid_auto_rows": null,
            "grid_gap": null,
            "max_width": null,
            "order": null,
            "_view_module_version": "1.2.0",
            "grid_template_areas": null,
            "object_position": null,
            "object_fit": null,
            "grid_auto_columns": null,
            "margin": null,
            "display": null,
            "left": null
          }
        },
        "8fb1e7a2312344ca8f8be8fa3350c166": {
          "model_module": "@jupyter-widgets/controls",
          "model_name": "ProgressStyleModel",
          "model_module_version": "1.5.0",
          "state": {
            "_view_name": "StyleView",
            "_model_name": "ProgressStyleModel",
            "description_width": "",
            "_view_module": "@jupyter-widgets/base",
            "_model_module_version": "1.5.0",
            "_view_count": null,
            "_view_module_version": "1.2.0",
            "bar_color": null,
            "_model_module": "@jupyter-widgets/controls"
          }
        },
        "ff4ecfa00c9c49c29bc9332983796647": {
          "model_module": "@jupyter-widgets/base",
          "model_name": "LayoutModel",
          "model_module_version": "1.2.0",
          "state": {
            "_view_name": "LayoutView",
            "grid_template_rows": null,
            "right": null,
            "justify_content": null,
            "_view_module": "@jupyter-widgets/base",
            "overflow": null,
            "_model_module_version": "1.2.0",
            "_view_count": null,
            "flex_flow": null,
            "width": null,
            "min_width": null,
            "border": null,
            "align_items": null,
            "bottom": null,
            "_model_module": "@jupyter-widgets/base",
            "top": null,
            "grid_column": null,
            "overflow_y": null,
            "overflow_x": null,
            "grid_auto_flow": null,
            "grid_area": null,
            "grid_template_columns": null,
            "flex": null,
            "_model_name": "LayoutModel",
            "justify_items": null,
            "grid_row": null,
            "max_height": null,
            "align_content": null,
            "visibility": null,
            "align_self": null,
            "height": null,
            "min_height": null,
            "padding": null,
            "grid_auto_rows": null,
            "grid_gap": null,
            "max_width": null,
            "order": null,
            "_view_module_version": "1.2.0",
            "grid_template_areas": null,
            "object_position": null,
            "object_fit": null,
            "grid_auto_columns": null,
            "margin": null,
            "display": null,
            "left": null
          }
        },
        "838bc669f03c45aa9d7222d0fc9a7a45": {
          "model_module": "@jupyter-widgets/controls",
          "model_name": "DescriptionStyleModel",
          "model_module_version": "1.5.0",
          "state": {
            "_view_name": "StyleView",
            "_model_name": "DescriptionStyleModel",
            "description_width": "",
            "_view_module": "@jupyter-widgets/base",
            "_model_module_version": "1.5.0",
            "_view_count": null,
            "_view_module_version": "1.2.0",
            "_model_module": "@jupyter-widgets/controls"
          }
        },
        "f6ca533c94ab4a66aa79b9dabd587dd2": {
          "model_module": "@jupyter-widgets/base",
          "model_name": "LayoutModel",
          "model_module_version": "1.2.0",
          "state": {
            "_view_name": "LayoutView",
            "grid_template_rows": null,
            "right": null,
            "justify_content": null,
            "_view_module": "@jupyter-widgets/base",
            "overflow": null,
            "_model_module_version": "1.2.0",
            "_view_count": null,
            "flex_flow": null,
            "width": null,
            "min_width": null,
            "border": null,
            "align_items": null,
            "bottom": null,
            "_model_module": "@jupyter-widgets/base",
            "top": null,
            "grid_column": null,
            "overflow_y": null,
            "overflow_x": null,
            "grid_auto_flow": null,
            "grid_area": null,
            "grid_template_columns": null,
            "flex": null,
            "_model_name": "LayoutModel",
            "justify_items": null,
            "grid_row": null,
            "max_height": null,
            "align_content": null,
            "visibility": null,
            "align_self": null,
            "height": null,
            "min_height": null,
            "padding": null,
            "grid_auto_rows": null,
            "grid_gap": null,
            "max_width": null,
            "order": null,
            "_view_module_version": "1.2.0",
            "grid_template_areas": null,
            "object_position": null,
            "object_fit": null,
            "grid_auto_columns": null,
            "margin": null,
            "display": null,
            "left": null
          }
        },
        "24522f7c4ff0492fbd7d7da4ef3f05a9": {
          "model_module": "@jupyter-widgets/controls",
          "model_name": "HBoxModel",
          "model_module_version": "1.5.0",
          "state": {
            "_view_name": "HBoxView",
            "_dom_classes": [],
            "_model_name": "HBoxModel",
            "_view_module": "@jupyter-widgets/controls",
            "_model_module_version": "1.5.0",
            "_view_count": null,
            "_view_module_version": "1.5.0",
            "box_style": "",
            "layout": "IPY_MODEL_8a623ef234bc4b69bfd05ac3dcce4ed2",
            "_model_module": "@jupyter-widgets/controls",
            "children": [
              "IPY_MODEL_25dd6090499340d0b8bb74c2f406f089",
              "IPY_MODEL_fcf9ad0e1fbf4d7294841d480e2efe5a",
              "IPY_MODEL_9ac53ac2b10d4ef9bf33b8e3923df392"
            ]
          }
        },
        "8a623ef234bc4b69bfd05ac3dcce4ed2": {
          "model_module": "@jupyter-widgets/base",
          "model_name": "LayoutModel",
          "model_module_version": "1.2.0",
          "state": {
            "_view_name": "LayoutView",
            "grid_template_rows": null,
            "right": null,
            "justify_content": null,
            "_view_module": "@jupyter-widgets/base",
            "overflow": null,
            "_model_module_version": "1.2.0",
            "_view_count": null,
            "flex_flow": null,
            "width": null,
            "min_width": null,
            "border": null,
            "align_items": null,
            "bottom": null,
            "_model_module": "@jupyter-widgets/base",
            "top": null,
            "grid_column": null,
            "overflow_y": null,
            "overflow_x": null,
            "grid_auto_flow": null,
            "grid_area": null,
            "grid_template_columns": null,
            "flex": null,
            "_model_name": "LayoutModel",
            "justify_items": null,
            "grid_row": null,
            "max_height": null,
            "align_content": null,
            "visibility": null,
            "align_self": null,
            "height": null,
            "min_height": null,
            "padding": null,
            "grid_auto_rows": null,
            "grid_gap": null,
            "max_width": null,
            "order": null,
            "_view_module_version": "1.2.0",
            "grid_template_areas": null,
            "object_position": null,
            "object_fit": null,
            "grid_auto_columns": null,
            "margin": null,
            "display": null,
            "left": null
          }
        },
        "25dd6090499340d0b8bb74c2f406f089": {
          "model_module": "@jupyter-widgets/controls",
          "model_name": "HTMLModel",
          "model_module_version": "1.5.0",
          "state": {
            "_view_name": "HTMLView",
            "style": "IPY_MODEL_40d2da85f12b49bc94d6ccf89048f0a4",
            "_dom_classes": [],
            "description": "",
            "_model_name": "HTMLModel",
            "placeholder": "​",
            "_view_module": "@jupyter-widgets/controls",
            "_model_module_version": "1.5.0",
            "value": "Downloading: 100%",
            "_view_count": null,
            "_view_module_version": "1.5.0",
            "description_tooltip": null,
            "_model_module": "@jupyter-widgets/controls",
            "layout": "IPY_MODEL_b0812840381145df995f5395737984f5"
          }
        },
        "fcf9ad0e1fbf4d7294841d480e2efe5a": {
          "model_module": "@jupyter-widgets/controls",
          "model_name": "FloatProgressModel",
          "model_module_version": "1.5.0",
          "state": {
            "_view_name": "ProgressView",
            "style": "IPY_MODEL_f27d7b5ad833480c8054bd78ec07afc3",
            "_dom_classes": [],
            "description": "",
            "_model_name": "FloatProgressModel",
            "bar_style": "success",
            "max": 898822,
            "_view_module": "@jupyter-widgets/controls",
            "_model_module_version": "1.5.0",
            "value": 898822,
            "_view_count": null,
            "_view_module_version": "1.5.0",
            "orientation": "horizontal",
            "min": 0,
            "description_tooltip": null,
            "_model_module": "@jupyter-widgets/controls",
            "layout": "IPY_MODEL_be9e6895a54048b7880dd46b5b63d043"
          }
        },
        "9ac53ac2b10d4ef9bf33b8e3923df392": {
          "model_module": "@jupyter-widgets/controls",
          "model_name": "HTMLModel",
          "model_module_version": "1.5.0",
          "state": {
            "_view_name": "HTMLView",
            "style": "IPY_MODEL_537fe17079b94f14ae3cc9de09700132",
            "_dom_classes": [],
            "description": "",
            "_model_name": "HTMLModel",
            "placeholder": "​",
            "_view_module": "@jupyter-widgets/controls",
            "_model_module_version": "1.5.0",
            "value": " 878k/878k [00:00&lt;00:00, 871kB/s]",
            "_view_count": null,
            "_view_module_version": "1.5.0",
            "description_tooltip": null,
            "_model_module": "@jupyter-widgets/controls",
            "layout": "IPY_MODEL_de7dd309742f4bfe9ceae77d757c2b6f"
          }
        },
        "40d2da85f12b49bc94d6ccf89048f0a4": {
          "model_module": "@jupyter-widgets/controls",
          "model_name": "DescriptionStyleModel",
          "model_module_version": "1.5.0",
          "state": {
            "_view_name": "StyleView",
            "_model_name": "DescriptionStyleModel",
            "description_width": "",
            "_view_module": "@jupyter-widgets/base",
            "_model_module_version": "1.5.0",
            "_view_count": null,
            "_view_module_version": "1.2.0",
            "_model_module": "@jupyter-widgets/controls"
          }
        },
        "b0812840381145df995f5395737984f5": {
          "model_module": "@jupyter-widgets/base",
          "model_name": "LayoutModel",
          "model_module_version": "1.2.0",
          "state": {
            "_view_name": "LayoutView",
            "grid_template_rows": null,
            "right": null,
            "justify_content": null,
            "_view_module": "@jupyter-widgets/base",
            "overflow": null,
            "_model_module_version": "1.2.0",
            "_view_count": null,
            "flex_flow": null,
            "width": null,
            "min_width": null,
            "border": null,
            "align_items": null,
            "bottom": null,
            "_model_module": "@jupyter-widgets/base",
            "top": null,
            "grid_column": null,
            "overflow_y": null,
            "overflow_x": null,
            "grid_auto_flow": null,
            "grid_area": null,
            "grid_template_columns": null,
            "flex": null,
            "_model_name": "LayoutModel",
            "justify_items": null,
            "grid_row": null,
            "max_height": null,
            "align_content": null,
            "visibility": null,
            "align_self": null,
            "height": null,
            "min_height": null,
            "padding": null,
            "grid_auto_rows": null,
            "grid_gap": null,
            "max_width": null,
            "order": null,
            "_view_module_version": "1.2.0",
            "grid_template_areas": null,
            "object_position": null,
            "object_fit": null,
            "grid_auto_columns": null,
            "margin": null,
            "display": null,
            "left": null
          }
        },
        "f27d7b5ad833480c8054bd78ec07afc3": {
          "model_module": "@jupyter-widgets/controls",
          "model_name": "ProgressStyleModel",
          "model_module_version": "1.5.0",
          "state": {
            "_view_name": "StyleView",
            "_model_name": "ProgressStyleModel",
            "description_width": "",
            "_view_module": "@jupyter-widgets/base",
            "_model_module_version": "1.5.0",
            "_view_count": null,
            "_view_module_version": "1.2.0",
            "bar_color": null,
            "_model_module": "@jupyter-widgets/controls"
          }
        },
        "be9e6895a54048b7880dd46b5b63d043": {
          "model_module": "@jupyter-widgets/base",
          "model_name": "LayoutModel",
          "model_module_version": "1.2.0",
          "state": {
            "_view_name": "LayoutView",
            "grid_template_rows": null,
            "right": null,
            "justify_content": null,
            "_view_module": "@jupyter-widgets/base",
            "overflow": null,
            "_model_module_version": "1.2.0",
            "_view_count": null,
            "flex_flow": null,
            "width": null,
            "min_width": null,
            "border": null,
            "align_items": null,
            "bottom": null,
            "_model_module": "@jupyter-widgets/base",
            "top": null,
            "grid_column": null,
            "overflow_y": null,
            "overflow_x": null,
            "grid_auto_flow": null,
            "grid_area": null,
            "grid_template_columns": null,
            "flex": null,
            "_model_name": "LayoutModel",
            "justify_items": null,
            "grid_row": null,
            "max_height": null,
            "align_content": null,
            "visibility": null,
            "align_self": null,
            "height": null,
            "min_height": null,
            "padding": null,
            "grid_auto_rows": null,
            "grid_gap": null,
            "max_width": null,
            "order": null,
            "_view_module_version": "1.2.0",
            "grid_template_areas": null,
            "object_position": null,
            "object_fit": null,
            "grid_auto_columns": null,
            "margin": null,
            "display": null,
            "left": null
          }
        },
        "537fe17079b94f14ae3cc9de09700132": {
          "model_module": "@jupyter-widgets/controls",
          "model_name": "DescriptionStyleModel",
          "model_module_version": "1.5.0",
          "state": {
            "_view_name": "StyleView",
            "_model_name": "DescriptionStyleModel",
            "description_width": "",
            "_view_module": "@jupyter-widgets/base",
            "_model_module_version": "1.5.0",
            "_view_count": null,
            "_view_module_version": "1.2.0",
            "_model_module": "@jupyter-widgets/controls"
          }
        },
        "de7dd309742f4bfe9ceae77d757c2b6f": {
          "model_module": "@jupyter-widgets/base",
          "model_name": "LayoutModel",
          "model_module_version": "1.2.0",
          "state": {
            "_view_name": "LayoutView",
            "grid_template_rows": null,
            "right": null,
            "justify_content": null,
            "_view_module": "@jupyter-widgets/base",
            "overflow": null,
            "_model_module_version": "1.2.0",
            "_view_count": null,
            "flex_flow": null,
            "width": null,
            "min_width": null,
            "border": null,
            "align_items": null,
            "bottom": null,
            "_model_module": "@jupyter-widgets/base",
            "top": null,
            "grid_column": null,
            "overflow_y": null,
            "overflow_x": null,
            "grid_auto_flow": null,
            "grid_area": null,
            "grid_template_columns": null,
            "flex": null,
            "_model_name": "LayoutModel",
            "justify_items": null,
            "grid_row": null,
            "max_height": null,
            "align_content": null,
            "visibility": null,
            "align_self": null,
            "height": null,
            "min_height": null,
            "padding": null,
            "grid_auto_rows": null,
            "grid_gap": null,
            "max_width": null,
            "order": null,
            "_view_module_version": "1.2.0",
            "grid_template_areas": null,
            "object_position": null,
            "object_fit": null,
            "grid_auto_columns": null,
            "margin": null,
            "display": null,
            "left": null
          }
        },
        "ce5576885d7947f1806dff4eccdfb5b1": {
          "model_module": "@jupyter-widgets/controls",
          "model_name": "HBoxModel",
          "model_module_version": "1.5.0",
          "state": {
            "_view_name": "HBoxView",
            "_dom_classes": [],
            "_model_name": "HBoxModel",
            "_view_module": "@jupyter-widgets/controls",
            "_model_module_version": "1.5.0",
            "_view_count": null,
            "_view_module_version": "1.5.0",
            "box_style": "",
            "layout": "IPY_MODEL_3d1ef563553f4e2ab947cd65b9cbfdd0",
            "_model_module": "@jupyter-widgets/controls",
            "children": [
              "IPY_MODEL_c958182800e942589650e16283bc7403",
              "IPY_MODEL_45b202a9fd2948e3b932ea9e936702a4",
              "IPY_MODEL_47827342be544cf49f2061fcc8e5e7e2"
            ]
          }
        },
        "3d1ef563553f4e2ab947cd65b9cbfdd0": {
          "model_module": "@jupyter-widgets/base",
          "model_name": "LayoutModel",
          "model_module_version": "1.2.0",
          "state": {
            "_view_name": "LayoutView",
            "grid_template_rows": null,
            "right": null,
            "justify_content": null,
            "_view_module": "@jupyter-widgets/base",
            "overflow": null,
            "_model_module_version": "1.2.0",
            "_view_count": null,
            "flex_flow": null,
            "width": null,
            "min_width": null,
            "border": null,
            "align_items": null,
            "bottom": null,
            "_model_module": "@jupyter-widgets/base",
            "top": null,
            "grid_column": null,
            "overflow_y": null,
            "overflow_x": null,
            "grid_auto_flow": null,
            "grid_area": null,
            "grid_template_columns": null,
            "flex": null,
            "_model_name": "LayoutModel",
            "justify_items": null,
            "grid_row": null,
            "max_height": null,
            "align_content": null,
            "visibility": null,
            "align_self": null,
            "height": null,
            "min_height": null,
            "padding": null,
            "grid_auto_rows": null,
            "grid_gap": null,
            "max_width": null,
            "order": null,
            "_view_module_version": "1.2.0",
            "grid_template_areas": null,
            "object_position": null,
            "object_fit": null,
            "grid_auto_columns": null,
            "margin": null,
            "display": null,
            "left": null
          }
        },
        "c958182800e942589650e16283bc7403": {
          "model_module": "@jupyter-widgets/controls",
          "model_name": "HTMLModel",
          "model_module_version": "1.5.0",
          "state": {
            "_view_name": "HTMLView",
            "style": "IPY_MODEL_582274340f3a4523a6418553d90916c1",
            "_dom_classes": [],
            "description": "",
            "_model_name": "HTMLModel",
            "placeholder": "​",
            "_view_module": "@jupyter-widgets/controls",
            "_model_module_version": "1.5.0",
            "value": "Downloading: 100%",
            "_view_count": null,
            "_view_module_version": "1.5.0",
            "description_tooltip": null,
            "_model_module": "@jupyter-widgets/controls",
            "layout": "IPY_MODEL_fd7ac13075634c45869e0095d90608b6"
          }
        },
        "45b202a9fd2948e3b932ea9e936702a4": {
          "model_module": "@jupyter-widgets/controls",
          "model_name": "FloatProgressModel",
          "model_module_version": "1.5.0",
          "state": {
            "_view_name": "ProgressView",
            "style": "IPY_MODEL_39343b83e90c4216a41b541e08fab077",
            "_dom_classes": [],
            "description": "",
            "_model_name": "FloatProgressModel",
            "bar_style": "success",
            "max": 456318,
            "_view_module": "@jupyter-widgets/controls",
            "_model_module_version": "1.5.0",
            "value": 456318,
            "_view_count": null,
            "_view_module_version": "1.5.0",
            "orientation": "horizontal",
            "min": 0,
            "description_tooltip": null,
            "_model_module": "@jupyter-widgets/controls",
            "layout": "IPY_MODEL_364f5b53b17340668703f5f3cfe69b5f"
          }
        },
        "47827342be544cf49f2061fcc8e5e7e2": {
          "model_module": "@jupyter-widgets/controls",
          "model_name": "HTMLModel",
          "model_module_version": "1.5.0",
          "state": {
            "_view_name": "HTMLView",
            "style": "IPY_MODEL_4ac5c5686c284577bd2892f638872740",
            "_dom_classes": [],
            "description": "",
            "_model_name": "HTMLModel",
            "placeholder": "​",
            "_view_module": "@jupyter-widgets/controls",
            "_model_module_version": "1.5.0",
            "value": " 446k/446k [00:00&lt;00:00, 637kB/s]",
            "_view_count": null,
            "_view_module_version": "1.5.0",
            "description_tooltip": null,
            "_model_module": "@jupyter-widgets/controls",
            "layout": "IPY_MODEL_bc2916564a24401c89367aee91cf5934"
          }
        },
        "582274340f3a4523a6418553d90916c1": {
          "model_module": "@jupyter-widgets/controls",
          "model_name": "DescriptionStyleModel",
          "model_module_version": "1.5.0",
          "state": {
            "_view_name": "StyleView",
            "_model_name": "DescriptionStyleModel",
            "description_width": "",
            "_view_module": "@jupyter-widgets/base",
            "_model_module_version": "1.5.0",
            "_view_count": null,
            "_view_module_version": "1.2.0",
            "_model_module": "@jupyter-widgets/controls"
          }
        },
        "fd7ac13075634c45869e0095d90608b6": {
          "model_module": "@jupyter-widgets/base",
          "model_name": "LayoutModel",
          "model_module_version": "1.2.0",
          "state": {
            "_view_name": "LayoutView",
            "grid_template_rows": null,
            "right": null,
            "justify_content": null,
            "_view_module": "@jupyter-widgets/base",
            "overflow": null,
            "_model_module_version": "1.2.0",
            "_view_count": null,
            "flex_flow": null,
            "width": null,
            "min_width": null,
            "border": null,
            "align_items": null,
            "bottom": null,
            "_model_module": "@jupyter-widgets/base",
            "top": null,
            "grid_column": null,
            "overflow_y": null,
            "overflow_x": null,
            "grid_auto_flow": null,
            "grid_area": null,
            "grid_template_columns": null,
            "flex": null,
            "_model_name": "LayoutModel",
            "justify_items": null,
            "grid_row": null,
            "max_height": null,
            "align_content": null,
            "visibility": null,
            "align_self": null,
            "height": null,
            "min_height": null,
            "padding": null,
            "grid_auto_rows": null,
            "grid_gap": null,
            "max_width": null,
            "order": null,
            "_view_module_version": "1.2.0",
            "grid_template_areas": null,
            "object_position": null,
            "object_fit": null,
            "grid_auto_columns": null,
            "margin": null,
            "display": null,
            "left": null
          }
        },
        "39343b83e90c4216a41b541e08fab077": {
          "model_module": "@jupyter-widgets/controls",
          "model_name": "ProgressStyleModel",
          "model_module_version": "1.5.0",
          "state": {
            "_view_name": "StyleView",
            "_model_name": "ProgressStyleModel",
            "description_width": "",
            "_view_module": "@jupyter-widgets/base",
            "_model_module_version": "1.5.0",
            "_view_count": null,
            "_view_module_version": "1.2.0",
            "bar_color": null,
            "_model_module": "@jupyter-widgets/controls"
          }
        },
        "364f5b53b17340668703f5f3cfe69b5f": {
          "model_module": "@jupyter-widgets/base",
          "model_name": "LayoutModel",
          "model_module_version": "1.2.0",
          "state": {
            "_view_name": "LayoutView",
            "grid_template_rows": null,
            "right": null,
            "justify_content": null,
            "_view_module": "@jupyter-widgets/base",
            "overflow": null,
            "_model_module_version": "1.2.0",
            "_view_count": null,
            "flex_flow": null,
            "width": null,
            "min_width": null,
            "border": null,
            "align_items": null,
            "bottom": null,
            "_model_module": "@jupyter-widgets/base",
            "top": null,
            "grid_column": null,
            "overflow_y": null,
            "overflow_x": null,
            "grid_auto_flow": null,
            "grid_area": null,
            "grid_template_columns": null,
            "flex": null,
            "_model_name": "LayoutModel",
            "justify_items": null,
            "grid_row": null,
            "max_height": null,
            "align_content": null,
            "visibility": null,
            "align_self": null,
            "height": null,
            "min_height": null,
            "padding": null,
            "grid_auto_rows": null,
            "grid_gap": null,
            "max_width": null,
            "order": null,
            "_view_module_version": "1.2.0",
            "grid_template_areas": null,
            "object_position": null,
            "object_fit": null,
            "grid_auto_columns": null,
            "margin": null,
            "display": null,
            "left": null
          }
        },
        "4ac5c5686c284577bd2892f638872740": {
          "model_module": "@jupyter-widgets/controls",
          "model_name": "DescriptionStyleModel",
          "model_module_version": "1.5.0",
          "state": {
            "_view_name": "StyleView",
            "_model_name": "DescriptionStyleModel",
            "description_width": "",
            "_view_module": "@jupyter-widgets/base",
            "_model_module_version": "1.5.0",
            "_view_count": null,
            "_view_module_version": "1.2.0",
            "_model_module": "@jupyter-widgets/controls"
          }
        },
        "bc2916564a24401c89367aee91cf5934": {
          "model_module": "@jupyter-widgets/base",
          "model_name": "LayoutModel",
          "model_module_version": "1.2.0",
          "state": {
            "_view_name": "LayoutView",
            "grid_template_rows": null,
            "right": null,
            "justify_content": null,
            "_view_module": "@jupyter-widgets/base",
            "overflow": null,
            "_model_module_version": "1.2.0",
            "_view_count": null,
            "flex_flow": null,
            "width": null,
            "min_width": null,
            "border": null,
            "align_items": null,
            "bottom": null,
            "_model_module": "@jupyter-widgets/base",
            "top": null,
            "grid_column": null,
            "overflow_y": null,
            "overflow_x": null,
            "grid_auto_flow": null,
            "grid_area": null,
            "grid_template_columns": null,
            "flex": null,
            "_model_name": "LayoutModel",
            "justify_items": null,
            "grid_row": null,
            "max_height": null,
            "align_content": null,
            "visibility": null,
            "align_self": null,
            "height": null,
            "min_height": null,
            "padding": null,
            "grid_auto_rows": null,
            "grid_gap": null,
            "max_width": null,
            "order": null,
            "_view_module_version": "1.2.0",
            "grid_template_areas": null,
            "object_position": null,
            "object_fit": null,
            "grid_auto_columns": null,
            "margin": null,
            "display": null,
            "left": null
          }
        },
        "a15670f722f74bc2aa5892a819c43988": {
          "model_module": "@jupyter-widgets/controls",
          "model_name": "HBoxModel",
          "model_module_version": "1.5.0",
          "state": {
            "_view_name": "HBoxView",
            "_dom_classes": [],
            "_model_name": "HBoxModel",
            "_view_module": "@jupyter-widgets/controls",
            "_model_module_version": "1.5.0",
            "_view_count": null,
            "_view_module_version": "1.5.0",
            "box_style": "",
            "layout": "IPY_MODEL_8713778a7a4a4a45b4dbe87862e56e5a",
            "_model_module": "@jupyter-widgets/controls",
            "children": [
              "IPY_MODEL_b48faebc14e34a23b9230f367203bf8f",
              "IPY_MODEL_8e0c0a8798dc4cab9a06b1f232d35d07",
              "IPY_MODEL_4c96bae9df954e57a61502579b4e3b75"
            ]
          }
        },
        "8713778a7a4a4a45b4dbe87862e56e5a": {
          "model_module": "@jupyter-widgets/base",
          "model_name": "LayoutModel",
          "model_module_version": "1.2.0",
          "state": {
            "_view_name": "LayoutView",
            "grid_template_rows": null,
            "right": null,
            "justify_content": null,
            "_view_module": "@jupyter-widgets/base",
            "overflow": null,
            "_model_module_version": "1.2.0",
            "_view_count": null,
            "flex_flow": null,
            "width": null,
            "min_width": null,
            "border": null,
            "align_items": null,
            "bottom": null,
            "_model_module": "@jupyter-widgets/base",
            "top": null,
            "grid_column": null,
            "overflow_y": null,
            "overflow_x": null,
            "grid_auto_flow": null,
            "grid_area": null,
            "grid_template_columns": null,
            "flex": null,
            "_model_name": "LayoutModel",
            "justify_items": null,
            "grid_row": null,
            "max_height": null,
            "align_content": null,
            "visibility": null,
            "align_self": null,
            "height": null,
            "min_height": null,
            "padding": null,
            "grid_auto_rows": null,
            "grid_gap": null,
            "max_width": null,
            "order": null,
            "_view_module_version": "1.2.0",
            "grid_template_areas": null,
            "object_position": null,
            "object_fit": null,
            "grid_auto_columns": null,
            "margin": null,
            "display": null,
            "left": null
          }
        },
        "b48faebc14e34a23b9230f367203bf8f": {
          "model_module": "@jupyter-widgets/controls",
          "model_name": "HTMLModel",
          "model_module_version": "1.5.0",
          "state": {
            "_view_name": "HTMLView",
            "style": "IPY_MODEL_5bda501b3847456e88960cb0dfd22681",
            "_dom_classes": [],
            "description": "",
            "_model_name": "HTMLModel",
            "placeholder": "​",
            "_view_module": "@jupyter-widgets/controls",
            "_model_module_version": "1.5.0",
            "value": "Downloading: 100%",
            "_view_count": null,
            "_view_module_version": "1.5.0",
            "description_tooltip": null,
            "_model_module": "@jupyter-widgets/controls",
            "layout": "IPY_MODEL_7728b5c6b98e4983879ef98f433f5483"
          }
        },
        "8e0c0a8798dc4cab9a06b1f232d35d07": {
          "model_module": "@jupyter-widgets/controls",
          "model_name": "FloatProgressModel",
          "model_module_version": "1.5.0",
          "state": {
            "_view_name": "ProgressView",
            "style": "IPY_MODEL_ed28d76d76ea4d0db7d07f66015fec28",
            "_dom_classes": [],
            "description": "",
            "_model_name": "FloatProgressModel",
            "bar_style": "success",
            "max": 1355863,
            "_view_module": "@jupyter-widgets/controls",
            "_model_module_version": "1.5.0",
            "value": 1355863,
            "_view_count": null,
            "_view_module_version": "1.5.0",
            "orientation": "horizontal",
            "min": 0,
            "description_tooltip": null,
            "_model_module": "@jupyter-widgets/controls",
            "layout": "IPY_MODEL_344e077dbfd8495c878841c0a41c970d"
          }
        },
        "4c96bae9df954e57a61502579b4e3b75": {
          "model_module": "@jupyter-widgets/controls",
          "model_name": "HTMLModel",
          "model_module_version": "1.5.0",
          "state": {
            "_view_name": "HTMLView",
            "style": "IPY_MODEL_41c66df401ee49b58229cfc0010b98cc",
            "_dom_classes": [],
            "description": "",
            "_model_name": "HTMLModel",
            "placeholder": "​",
            "_view_module": "@jupyter-widgets/controls",
            "_model_module_version": "1.5.0",
            "value": " 1.29M/1.29M [00:01&lt;00:00, 1.18MB/s]",
            "_view_count": null,
            "_view_module_version": "1.5.0",
            "description_tooltip": null,
            "_model_module": "@jupyter-widgets/controls",
            "layout": "IPY_MODEL_3314025eb7534f6c82187fcf0d698c60"
          }
        },
        "5bda501b3847456e88960cb0dfd22681": {
          "model_module": "@jupyter-widgets/controls",
          "model_name": "DescriptionStyleModel",
          "model_module_version": "1.5.0",
          "state": {
            "_view_name": "StyleView",
            "_model_name": "DescriptionStyleModel",
            "description_width": "",
            "_view_module": "@jupyter-widgets/base",
            "_model_module_version": "1.5.0",
            "_view_count": null,
            "_view_module_version": "1.2.0",
            "_model_module": "@jupyter-widgets/controls"
          }
        },
        "7728b5c6b98e4983879ef98f433f5483": {
          "model_module": "@jupyter-widgets/base",
          "model_name": "LayoutModel",
          "model_module_version": "1.2.0",
          "state": {
            "_view_name": "LayoutView",
            "grid_template_rows": null,
            "right": null,
            "justify_content": null,
            "_view_module": "@jupyter-widgets/base",
            "overflow": null,
            "_model_module_version": "1.2.0",
            "_view_count": null,
            "flex_flow": null,
            "width": null,
            "min_width": null,
            "border": null,
            "align_items": null,
            "bottom": null,
            "_model_module": "@jupyter-widgets/base",
            "top": null,
            "grid_column": null,
            "overflow_y": null,
            "overflow_x": null,
            "grid_auto_flow": null,
            "grid_area": null,
            "grid_template_columns": null,
            "flex": null,
            "_model_name": "LayoutModel",
            "justify_items": null,
            "grid_row": null,
            "max_height": null,
            "align_content": null,
            "visibility": null,
            "align_self": null,
            "height": null,
            "min_height": null,
            "padding": null,
            "grid_auto_rows": null,
            "grid_gap": null,
            "max_width": null,
            "order": null,
            "_view_module_version": "1.2.0",
            "grid_template_areas": null,
            "object_position": null,
            "object_fit": null,
            "grid_auto_columns": null,
            "margin": null,
            "display": null,
            "left": null
          }
        },
        "ed28d76d76ea4d0db7d07f66015fec28": {
          "model_module": "@jupyter-widgets/controls",
          "model_name": "ProgressStyleModel",
          "model_module_version": "1.5.0",
          "state": {
            "_view_name": "StyleView",
            "_model_name": "ProgressStyleModel",
            "description_width": "",
            "_view_module": "@jupyter-widgets/base",
            "_model_module_version": "1.5.0",
            "_view_count": null,
            "_view_module_version": "1.2.0",
            "bar_color": null,
            "_model_module": "@jupyter-widgets/controls"
          }
        },
        "344e077dbfd8495c878841c0a41c970d": {
          "model_module": "@jupyter-widgets/base",
          "model_name": "LayoutModel",
          "model_module_version": "1.2.0",
          "state": {
            "_view_name": "LayoutView",
            "grid_template_rows": null,
            "right": null,
            "justify_content": null,
            "_view_module": "@jupyter-widgets/base",
            "overflow": null,
            "_model_module_version": "1.2.0",
            "_view_count": null,
            "flex_flow": null,
            "width": null,
            "min_width": null,
            "border": null,
            "align_items": null,
            "bottom": null,
            "_model_module": "@jupyter-widgets/base",
            "top": null,
            "grid_column": null,
            "overflow_y": null,
            "overflow_x": null,
            "grid_auto_flow": null,
            "grid_area": null,
            "grid_template_columns": null,
            "flex": null,
            "_model_name": "LayoutModel",
            "justify_items": null,
            "grid_row": null,
            "max_height": null,
            "align_content": null,
            "visibility": null,
            "align_self": null,
            "height": null,
            "min_height": null,
            "padding": null,
            "grid_auto_rows": null,
            "grid_gap": null,
            "max_width": null,
            "order": null,
            "_view_module_version": "1.2.0",
            "grid_template_areas": null,
            "object_position": null,
            "object_fit": null,
            "grid_auto_columns": null,
            "margin": null,
            "display": null,
            "left": null
          }
        },
        "41c66df401ee49b58229cfc0010b98cc": {
          "model_module": "@jupyter-widgets/controls",
          "model_name": "DescriptionStyleModel",
          "model_module_version": "1.5.0",
          "state": {
            "_view_name": "StyleView",
            "_model_name": "DescriptionStyleModel",
            "description_width": "",
            "_view_module": "@jupyter-widgets/base",
            "_model_module_version": "1.5.0",
            "_view_count": null,
            "_view_module_version": "1.2.0",
            "_model_module": "@jupyter-widgets/controls"
          }
        },
        "3314025eb7534f6c82187fcf0d698c60": {
          "model_module": "@jupyter-widgets/base",
          "model_name": "LayoutModel",
          "model_module_version": "1.2.0",
          "state": {
            "_view_name": "LayoutView",
            "grid_template_rows": null,
            "right": null,
            "justify_content": null,
            "_view_module": "@jupyter-widgets/base",
            "overflow": null,
            "_model_module_version": "1.2.0",
            "_view_count": null,
            "flex_flow": null,
            "width": null,
            "min_width": null,
            "border": null,
            "align_items": null,
            "bottom": null,
            "_model_module": "@jupyter-widgets/base",
            "top": null,
            "grid_column": null,
            "overflow_y": null,
            "overflow_x": null,
            "grid_auto_flow": null,
            "grid_area": null,
            "grid_template_columns": null,
            "flex": null,
            "_model_name": "LayoutModel",
            "justify_items": null,
            "grid_row": null,
            "max_height": null,
            "align_content": null,
            "visibility": null,
            "align_self": null,
            "height": null,
            "min_height": null,
            "padding": null,
            "grid_auto_rows": null,
            "grid_gap": null,
            "max_width": null,
            "order": null,
            "_view_module_version": "1.2.0",
            "grid_template_areas": null,
            "object_position": null,
            "object_fit": null,
            "grid_auto_columns": null,
            "margin": null,
            "display": null,
            "left": null
          }
        }
      }
    }
  },
  "cells": [
    {
      "cell_type": "markdown",
      "metadata": {
        "id": "view-in-github",
        "colab_type": "text"
      },
      "source": [
        "<a href=\"https://colab.research.google.com/github/iVibudh/BAIT-509---Machine-Learning-/blob/master/notebooks/CER_01_labeling_VCs_with_zero_shot_learning.ipynb\" target=\"_parent\"><img src=\"https://colab.research.google.com/assets/colab-badge.svg\" alt=\"Open In Colab\"/></a>"
      ]
    },
    {
      "cell_type": "markdown",
      "source": [
        "# Labeling VCs with Zero-Shot Learning using Huggingface Transformers\n",
        "\n",
        "This notebook has the goal of taking the text from ESA tables and trying to classify the VCs for a specific table. We use an approach called Zero-Shot Learning to do this. I won't go over the nitty-gritty details of Zero-Shot, but you can go to the following link if you are interested: https://towardsdatascience.com/zero-shot-text-classification-evaluation-c7ba0f56688e.\n",
        "\n",
        "Since we have to classify *a lot* of tables, it will be better to use a GPU to speed up inference/prediction speed.\n",
        "\n",
        "# Installations"
      ],
      "metadata": {
        "id": "eisQjUpD-eLf"
      }
    },
    {
      "cell_type": "code",
      "metadata": {
        "colab": {
          "base_uri": "https://localhost:8080/"
        },
        "id": "KGzdoHOghfJH",
        "outputId": "b806ccf3-471f-40ce-89c5-a1efa0f5dd92"
      },
      "source": [
        "!pip install transformers --quiet\n",
        "!pip install tqdm --quiet"
      ],
      "execution_count": null,
      "outputs": [
        {
          "output_type": "stream",
          "name": "stdout",
          "text": [
            "\u001b[K     |████████████████████████████████| 3.3 MB 5.0 MB/s \n",
            "\u001b[K     |████████████████████████████████| 61 kB 319 kB/s \n",
            "\u001b[K     |████████████████████████████████| 596 kB 41.7 MB/s \n",
            "\u001b[K     |████████████████████████████████| 3.3 MB 31.6 MB/s \n",
            "\u001b[K     |████████████████████████████████| 895 kB 42.3 MB/s \n",
            "\u001b[?25h"
          ]
        }
      ]
    },
    {
      "cell_type": "markdown",
      "source": [
        "# Imports"
      ],
      "metadata": {
        "id": "_8rHj6q5-tC5"
      }
    },
    {
      "cell_type": "code",
      "metadata": {
        "id": "aEvJ1LmnO9Hh",
        "colab": {
          "base_uri": "https://localhost:8080/"
        },
        "outputId": "cb0377b0-8f4b-40e7-a08b-0d0d9887805a"
      },
      "source": [
        "import os\n",
        "import requests\n",
        "import pickle\n",
        "import pandas as pd\n",
        "from transformers import pipeline\n",
        "from bs4 import BeautifulSoup\n",
        "import nltk\n",
        "from nltk.stem.porter import *\n",
        "from tqdm import tqdm\n",
        "\n",
        "nltk.download('stopwords', quiet=True)"
      ],
      "execution_count": null,
      "outputs": [
        {
          "output_type": "execute_result",
          "data": {
            "text/plain": [
              "True"
            ]
          },
          "metadata": {},
          "execution_count": 5
        }
      ]
    },
    {
      "cell_type": "code",
      "metadata": {
        "id": "yAZmqv-XctM6"
      },
      "source": [
        "pickled_dataset = 'zero_shot_vcs_train'"
      ],
      "execution_count": null,
      "outputs": []
    },
    {
      "cell_type": "markdown",
      "source": [
        "# Loading the Data"
      ],
      "metadata": {
        "id": "tBRuBx98-wWg"
      }
    },
    {
      "cell_type": "code",
      "metadata": {
        "id": "AYzuCqZUPjCo"
      },
      "source": [
        "csv_url = 'https://raw.githubusercontent.com/JayThibs/huggingface-course-cer-workshop/main/data/zero_shot_esa_index_train_128_max_tokens.csv'\n",
        "df_joined = pd.read_csv(csv_url, index_col=0)"
      ],
      "execution_count": null,
      "outputs": []
    },
    {
      "cell_type": "code",
      "metadata": {
        "colab": {
          "base_uri": "https://localhost:8080/"
        },
        "id": "y_VYcHfZJKTk",
        "outputId": "af93ad8a-5a06-40a6-de2f-954852f04f8a"
      },
      "source": [
        "len(df_joined)"
      ],
      "execution_count": null,
      "outputs": [
        {
          "output_type": "execute_result",
          "data": {
            "text/plain": [
              "28891"
            ]
          },
          "metadata": {},
          "execution_count": 4
        }
      ]
    },
    {
      "cell_type": "code",
      "metadata": {
        "colab": {
          "base_uri": "https://localhost:8080/",
          "height": 608
        },
        "id": "1N82Q4fFi4S2",
        "outputId": "c58039b5-2b24-459a-d063-517256ed5abc"
      },
      "source": [
        "df_joined.head()"
      ],
      "execution_count": null,
      "outputs": [
        {
          "output_type": "execute_result",
          "data": {
            "text/html": [
              "<div>\n",
              "<style scoped>\n",
              "    .dataframe tbody tr th:only-of-type {\n",
              "        vertical-align: middle;\n",
              "    }\n",
              "\n",
              "    .dataframe tbody tr th {\n",
              "        vertical-align: top;\n",
              "    }\n",
              "\n",
              "    .dataframe thead th {\n",
              "        text-align: right;\n",
              "    }\n",
              "</style>\n",
              "<table border=\"1\" class=\"dataframe\">\n",
              "  <thead>\n",
              "    <tr style=\"text-align: right;\">\n",
              "      <th></th>\n",
              "      <th>Index</th>\n",
              "      <th>Content Type</th>\n",
              "      <th>Application Name</th>\n",
              "      <th>Application Short Name</th>\n",
              "      <th>Application Filing Date</th>\n",
              "      <th>Company Name</th>\n",
              "      <th>Commodity</th>\n",
              "      <th>File Name</th>\n",
              "      <th>ESA Folder URL</th>\n",
              "      <th>Document Number</th>\n",
              "      <th>Data ID</th>\n",
              "      <th>PDF Download URL</th>\n",
              "      <th>Application Type (NEB Act)</th>\n",
              "      <th>Pipeline Location</th>\n",
              "      <th>Hearing order</th>\n",
              "      <th>Consultant Name</th>\n",
              "      <th>Pipeline Status</th>\n",
              "      <th>Regulatory Instrument(s)</th>\n",
              "      <th>Application URL</th>\n",
              "      <th>Decision URL</th>\n",
              "      <th>ESA Section(s)</th>\n",
              "      <th>ESA Section(s) Index</th>\n",
              "      <th>ESA Section(s) Topics</th>\n",
              "      <th>CSV Download URL</th>\n",
              "      <th>PDF Page Number</th>\n",
              "      <th>PDF Page Count</th>\n",
              "      <th>PDF Size</th>\n",
              "      <th>PDF Outline</th>\n",
              "      <th>Download folder name</th>\n",
              "      <th>Zipped Project Link</th>\n",
              "      <th>Missing CSV</th>\n",
              "      <th>CSV Filename</th>\n",
              "      <th>csvFileName</th>\n",
              "      <th>text</th>\n",
              "      <th>label</th>\n",
              "    </tr>\n",
              "  </thead>\n",
              "  <tbody>\n",
              "    <tr>\n",
              "      <th>0</th>\n",
              "      <td>9134</td>\n",
              "      <td>Table</td>\n",
              "      <td>Application for North Montney Project</td>\n",
              "      <td>North Montney</td>\n",
              "      <td>11/8/2013</td>\n",
              "      <td>NOVA Gas Transmission Ltd.</td>\n",
              "      <td>Gas</td>\n",
              "      <td>B2-16 ESA_Appendix_G_Part1of4 (A3Q6H2)</td>\n",
              "      <td>https://apps.cer-rec.gc.ca/REGDOCS/Item/LoadRe...</td>\n",
              "      <td>A3Q6H2</td>\n",
              "      <td>1059614</td>\n",
              "      <td>https://apps.cer-rec.gc.ca/REGDOCS/File/Downlo...</td>\n",
              "      <td>Large Projects (over 40 km)</td>\n",
              "      <td>British Columbia, All</td>\n",
              "      <td>GH-001-2014</td>\n",
              "      <td>Stantec Consulting Ltd., TERA Environmental Co...</td>\n",
              "      <td>Operating</td>\n",
              "      <td>GC-125</td>\n",
              "      <td>https://apps.cer-rec.gc.ca/REGDOCS/Item/View/1...</td>\n",
              "      <td>https://apps.cer-rec.gc.ca/REGDOCS/Item/View/3...</td>\n",
              "      <td>Appendix G: TERA Aquatics Summary Report</td>\n",
              "      <td>15.0</td>\n",
              "      <td>Water, All</td>\n",
              "      <td>http://www.cer-rec.gc.ca/esa-ees/nrthmntn/nrth...</td>\n",
              "      <td>14</td>\n",
              "      <td>48.0</td>\n",
              "      <td>5.87</td>\n",
              "      <td>No</td>\n",
              "      <td>nrthmntn</td>\n",
              "      <td>http://www.cer-rec.gc.ca/esa-ees/nrthmntn.zip</td>\n",
              "      <td>False</td>\n",
              "      <td>nrthmntn_table-3-summary-of-aquatics-field-wor...</td>\n",
              "      <td>1059614_14_lattice-v_1.csv</td>\n",
              "      <td>TABLE 3 SUMMARY OF AQUATICS FIELD WORK AND ABO...</td>\n",
              "      <td>-1</td>\n",
              "    </tr>\n",
              "    <tr>\n",
              "      <th>1</th>\n",
              "      <td>9135</td>\n",
              "      <td>Table</td>\n",
              "      <td>Application for North Montney Project</td>\n",
              "      <td>North Montney</td>\n",
              "      <td>11/8/2013</td>\n",
              "      <td>NOVA Gas Transmission Ltd.</td>\n",
              "      <td>Gas</td>\n",
              "      <td>B2-16 ESA_Appendix_G_Part1of4 (A3Q6H2)</td>\n",
              "      <td>https://apps.cer-rec.gc.ca/REGDOCS/Item/LoadRe...</td>\n",
              "      <td>A3Q6H2</td>\n",
              "      <td>1059614</td>\n",
              "      <td>https://apps.cer-rec.gc.ca/REGDOCS/File/Downlo...</td>\n",
              "      <td>Large Projects (over 40 km)</td>\n",
              "      <td>British Columbia, All</td>\n",
              "      <td>GH-001-2014</td>\n",
              "      <td>Stantec Consulting Ltd., TERA Environmental Co...</td>\n",
              "      <td>Operating</td>\n",
              "      <td>GC-125</td>\n",
              "      <td>https://apps.cer-rec.gc.ca/REGDOCS/Item/View/1...</td>\n",
              "      <td>https://apps.cer-rec.gc.ca/REGDOCS/Item/View/3...</td>\n",
              "      <td>Appendix G: TERA Aquatics Summary Report</td>\n",
              "      <td>15.0</td>\n",
              "      <td>Water, All</td>\n",
              "      <td>http://www.cer-rec.gc.ca/esa-ees/nrthmntn/nrth...</td>\n",
              "      <td>17</td>\n",
              "      <td>48.0</td>\n",
              "      <td>5.87</td>\n",
              "      <td>No</td>\n",
              "      <td>nrthmntn</td>\n",
              "      <td>http://www.cer-rec.gc.ca/esa-ees/nrthmntn.zip</td>\n",
              "      <td>False</td>\n",
              "      <td>nrthmntn_table-4-summary-of-watercourse-crossi...</td>\n",
              "      <td>1059614_17_lattice-v_1.csv</td>\n",
              "      <td>TABLE 4 SUMMARY OF WATERCOURSE CROSSINGS ALONG...</td>\n",
              "      <td>-1</td>\n",
              "    </tr>\n",
              "    <tr>\n",
              "      <th>2</th>\n",
              "      <td>9136</td>\n",
              "      <td>Table</td>\n",
              "      <td>Application for North Montney Project</td>\n",
              "      <td>North Montney</td>\n",
              "      <td>11/8/2013</td>\n",
              "      <td>NOVA Gas Transmission Ltd.</td>\n",
              "      <td>Gas</td>\n",
              "      <td>B2-16 ESA_Appendix_G_Part1of4 (A3Q6H2)</td>\n",
              "      <td>https://apps.cer-rec.gc.ca/REGDOCS/Item/LoadRe...</td>\n",
              "      <td>A3Q6H2</td>\n",
              "      <td>1059614</td>\n",
              "      <td>https://apps.cer-rec.gc.ca/REGDOCS/File/Downlo...</td>\n",
              "      <td>Large Projects (over 40 km)</td>\n",
              "      <td>British Columbia, All</td>\n",
              "      <td>GH-001-2014</td>\n",
              "      <td>Stantec Consulting Ltd., TERA Environmental Co...</td>\n",
              "      <td>Operating</td>\n",
              "      <td>GC-125</td>\n",
              "      <td>https://apps.cer-rec.gc.ca/REGDOCS/Item/View/1...</td>\n",
              "      <td>https://apps.cer-rec.gc.ca/REGDOCS/Item/View/3...</td>\n",
              "      <td>Appendix G: TERA Aquatics Summary Report</td>\n",
              "      <td>15.0</td>\n",
              "      <td>Water, All</td>\n",
              "      <td>http://www.cer-rec.gc.ca/esa-ees/nrthmntn/nrth...</td>\n",
              "      <td>18</td>\n",
              "      <td>48.0</td>\n",
              "      <td>5.87</td>\n",
              "      <td>No</td>\n",
              "      <td>nrthmntn</td>\n",
              "      <td>http://www.cer-rec.gc.ca/esa-ees/nrthmntn.zip</td>\n",
              "      <td>False</td>\n",
              "      <td>nrthmntn_table-4-summary-of-watercourse-crossi...</td>\n",
              "      <td>1059614_18_lattice-v_1.csv</td>\n",
              "      <td>TABLE 4 SUMMARY OF WATERCOURSE CROSSINGS ALONG...</td>\n",
              "      <td>-1</td>\n",
              "    </tr>\n",
              "    <tr>\n",
              "      <th>3</th>\n",
              "      <td>9137</td>\n",
              "      <td>Table</td>\n",
              "      <td>Application for North Montney Project</td>\n",
              "      <td>North Montney</td>\n",
              "      <td>11/8/2013</td>\n",
              "      <td>NOVA Gas Transmission Ltd.</td>\n",
              "      <td>Gas</td>\n",
              "      <td>B2-16 ESA_Appendix_G_Part1of4 (A3Q6H2)</td>\n",
              "      <td>https://apps.cer-rec.gc.ca/REGDOCS/Item/LoadRe...</td>\n",
              "      <td>A3Q6H2</td>\n",
              "      <td>1059614</td>\n",
              "      <td>https://apps.cer-rec.gc.ca/REGDOCS/File/Downlo...</td>\n",
              "      <td>Large Projects (over 40 km)</td>\n",
              "      <td>British Columbia, All</td>\n",
              "      <td>GH-001-2014</td>\n",
              "      <td>Stantec Consulting Ltd., TERA Environmental Co...</td>\n",
              "      <td>Operating</td>\n",
              "      <td>GC-125</td>\n",
              "      <td>https://apps.cer-rec.gc.ca/REGDOCS/Item/View/1...</td>\n",
              "      <td>https://apps.cer-rec.gc.ca/REGDOCS/Item/View/3...</td>\n",
              "      <td>Appendix G: TERA Aquatics Summary Report</td>\n",
              "      <td>15.0</td>\n",
              "      <td>Water, All</td>\n",
              "      <td>http://www.cer-rec.gc.ca/esa-ees/nrthmntn/nrth...</td>\n",
              "      <td>19</td>\n",
              "      <td>48.0</td>\n",
              "      <td>5.87</td>\n",
              "      <td>No</td>\n",
              "      <td>nrthmntn</td>\n",
              "      <td>http://www.cer-rec.gc.ca/esa-ees/nrthmntn.zip</td>\n",
              "      <td>False</td>\n",
              "      <td>nrthmntn_table-4-summary-of-watercourse-crossi...</td>\n",
              "      <td>1059614_19_lattice-v_1.csv</td>\n",
              "      <td>TABLE 4 SUMMARY OF WATERCOURSE CROSSINGS ALONG...</td>\n",
              "      <td>-1</td>\n",
              "    </tr>\n",
              "    <tr>\n",
              "      <th>4</th>\n",
              "      <td>9138</td>\n",
              "      <td>Table</td>\n",
              "      <td>Application for North Montney Project</td>\n",
              "      <td>North Montney</td>\n",
              "      <td>11/8/2013</td>\n",
              "      <td>NOVA Gas Transmission Ltd.</td>\n",
              "      <td>Gas</td>\n",
              "      <td>B2-16 ESA_Appendix_G_Part1of4 (A3Q6H2)</td>\n",
              "      <td>https://apps.cer-rec.gc.ca/REGDOCS/Item/LoadRe...</td>\n",
              "      <td>A3Q6H2</td>\n",
              "      <td>1059614</td>\n",
              "      <td>https://apps.cer-rec.gc.ca/REGDOCS/File/Downlo...</td>\n",
              "      <td>Large Projects (over 40 km)</td>\n",
              "      <td>British Columbia, All</td>\n",
              "      <td>GH-001-2014</td>\n",
              "      <td>Stantec Consulting Ltd., TERA Environmental Co...</td>\n",
              "      <td>Operating</td>\n",
              "      <td>GC-125</td>\n",
              "      <td>https://apps.cer-rec.gc.ca/REGDOCS/Item/View/1...</td>\n",
              "      <td>https://apps.cer-rec.gc.ca/REGDOCS/Item/View/3...</td>\n",
              "      <td>Appendix G: TERA Aquatics Summary Report</td>\n",
              "      <td>15.0</td>\n",
              "      <td>Water, All</td>\n",
              "      <td>http://www.cer-rec.gc.ca/esa-ees/nrthmntn/nrth...</td>\n",
              "      <td>20</td>\n",
              "      <td>48.0</td>\n",
              "      <td>5.87</td>\n",
              "      <td>No</td>\n",
              "      <td>nrthmntn</td>\n",
              "      <td>http://www.cer-rec.gc.ca/esa-ees/nrthmntn.zip</td>\n",
              "      <td>False</td>\n",
              "      <td>nrthmntn_table-4-summary-of-watercourse-crossi...</td>\n",
              "      <td>1059614_20_lattice-v_1.csv</td>\n",
              "      <td>TABLE 4 SUMMARY OF WATERCOURSE CROSSINGS ALONG...</td>\n",
              "      <td>-1</td>\n",
              "    </tr>\n",
              "  </tbody>\n",
              "</table>\n",
              "</div>"
            ],
            "text/plain": [
              "   Index Content Type  ...                                               text label\n",
              "0   9134        Table  ...  TABLE 3 SUMMARY OF AQUATICS FIELD WORK AND ABO...    -1\n",
              "1   9135        Table  ...  TABLE 4 SUMMARY OF WATERCOURSE CROSSINGS ALONG...    -1\n",
              "2   9136        Table  ...  TABLE 4 SUMMARY OF WATERCOURSE CROSSINGS ALONG...    -1\n",
              "3   9137        Table  ...  TABLE 4 SUMMARY OF WATERCOURSE CROSSINGS ALONG...    -1\n",
              "4   9138        Table  ...  TABLE 4 SUMMARY OF WATERCOURSE CROSSINGS ALONG...    -1\n",
              "\n",
              "[5 rows x 35 columns]"
            ]
          },
          "metadata": {},
          "execution_count": 5
        }
      ]
    },
    {
      "cell_type": "code",
      "metadata": {
        "colab": {
          "base_uri": "https://localhost:8080/",
          "height": 53
        },
        "id": "Ip3S0PYHPmPJ",
        "outputId": "9be38864-160e-4340-e251-b19bf42dd0e5"
      },
      "source": [
        "df_joined.iloc[100]['text']"
      ],
      "execution_count": null,
      "outputs": [
        {
          "output_type": "execute_result",
          "data": {
            "application/vnd.google.colaboratory.intrinsic+json": {
              "type": "string"
            },
            "text/plain": [
              "'Table 425 Major Fire Departments in the Infrastructure and Services in the RAA FulltimeEmployees Equipment ServicesProvided AreasCommunitiesServed HudsonsHope FireDepartment 1 fire chief 25 firefighters Not specified fireprevention andinspectionservices City of Hudsons Hopeand surrounding area MoberlyLake FireDepartment 1 fire chief Severalfirefighters notspecified Not specified Not specified Moberly Lake areaWest Moberly FirstNation and SaulteauFirst Nation SOURCE Modified from PRRD 2013a '"
            ]
          },
          "metadata": {},
          "execution_count": 7
        }
      ]
    },
    {
      "cell_type": "code",
      "metadata": {
        "id": "7hM_whVXPpDW"
      },
      "source": [
        "sequences = []\n",
        "\n",
        "for x in range(len(df_joined)):\n",
        "  sequences.append(df_joined.iloc[x]['text'][0:250])"
      ],
      "execution_count": null,
      "outputs": []
    },
    {
      "cell_type": "code",
      "metadata": {
        "colab": {
          "base_uri": "https://localhost:8080/"
        },
        "id": "y2i8SmQVVF0J",
        "outputId": "e54e952f-e0d5-4399-8b29-2cd36ba7b36a"
      },
      "source": [
        "len(sequences)"
      ],
      "execution_count": null,
      "outputs": [
        {
          "output_type": "execute_result",
          "data": {
            "text/plain": [
              "28891"
            ]
          },
          "metadata": {},
          "execution_count": 9
        }
      ]
    },
    {
      "cell_type": "code",
      "metadata": {
        "colab": {
          "base_uri": "https://localhost:8080/",
          "height": 53
        },
        "id": "dwT0g0J56L2q",
        "outputId": "91c03c4f-96e6-4210-b471-5c5010ffa41e"
      },
      "source": [
        "sequences[0]"
      ],
      "execution_count": null,
      "outputs": [
        {
          "output_type": "execute_result",
          "data": {
            "application/vnd.google.colaboratory.intrinsic+json": {
              "type": "string"
            },
            "text/plain": [
              "'TABLE 3 SUMMARY OF AQUATICS FIELD WORK AND ABORIGINAL FIELD STUDY PARTICIPATION FOR THE PROJECT Survey Date Aboriginal Communities Detail July 9 to 12 2011 Blueberry River First Nation Halfway River First Nation McLeod Lake Indian Band North East Mti'"
            ]
          },
          "metadata": {},
          "execution_count": 10
        }
      ]
    },
    {
      "cell_type": "markdown",
      "source": [
        "# Loading the Model with `pipeline`"
      ],
      "metadata": {
        "id": "XQV6qG0kX77D"
      }
    },
    {
      "cell_type": "code",
      "metadata": {
        "id": "FDuUc81sPkjT",
        "colab": {
          "base_uri": "https://localhost:8080/",
          "height": 226,
          "referenced_widgets": [
            "6acc0c12ede74f56ae2d2f6abceda90f",
            "2e2a8761f188447eaa13f2516908b657",
            "848fc13b7f2d43f1b3bf205ae668c87d",
            "8875737dea3c44ad9ef85451307095af",
            "3f770c5724ae4b3a908ed5cff6b6e8bc",
            "260952bf2da942919cb61b0ce1876b9a",
            "e568a84f45d94c03b937b488a705b72b",
            "69ece20357c743bd8ebc866a372081a9",
            "2ba1064fcbcf4a7f9bc715363504dbd5",
            "168fe836e28e42099ff08a4474cf84cf",
            "0c2b4745ee6f4806a4ca21447e0fbdb4",
            "2d3b8a758b984a68a863567b16a082fe",
            "91fb1c346c9649c4b684c05e4cc811d3",
            "d06b09ce9c7945c38b14508b3e8d1a8b",
            "8ad454afb8584abd87e1c26b599f90ce",
            "357b349c6a8f441590d861dc1cb34447",
            "fc7fa832810c4e92ba2369cf6ec4cdb2",
            "6d85aa60090a4580a90af985411df492",
            "c18e7835630d44aaa9497fd8795fee5f",
            "3e95c435c29a48c2a6d39b5a1ea72c2a",
            "0fc3e431ad444a2c9dedc0b041cb8a35",
            "bd727954cfef4e9bab2e19d454c49b5c",
            "52c1f261511c412ca80f2e1beea9d578",
            "5bc7eaf233004b48bfd699d5348da39f",
            "2cf696340013425a966e17d98edd45ba",
            "4a33e5054f26484eba01110f092c9f6b",
            "4ab2ae14ef77497f9c82b1f7de8c353f",
            "26b73b13d48e4118bb22d4116a769e43",
            "af227674ada641f8ac3a0378805ef275",
            "8fb1e7a2312344ca8f8be8fa3350c166",
            "ff4ecfa00c9c49c29bc9332983796647",
            "838bc669f03c45aa9d7222d0fc9a7a45",
            "f6ca533c94ab4a66aa79b9dabd587dd2",
            "24522f7c4ff0492fbd7d7da4ef3f05a9",
            "8a623ef234bc4b69bfd05ac3dcce4ed2",
            "25dd6090499340d0b8bb74c2f406f089",
            "fcf9ad0e1fbf4d7294841d480e2efe5a",
            "9ac53ac2b10d4ef9bf33b8e3923df392",
            "40d2da85f12b49bc94d6ccf89048f0a4",
            "b0812840381145df995f5395737984f5",
            "f27d7b5ad833480c8054bd78ec07afc3",
            "be9e6895a54048b7880dd46b5b63d043",
            "537fe17079b94f14ae3cc9de09700132",
            "de7dd309742f4bfe9ceae77d757c2b6f",
            "ce5576885d7947f1806dff4eccdfb5b1",
            "3d1ef563553f4e2ab947cd65b9cbfdd0",
            "c958182800e942589650e16283bc7403",
            "45b202a9fd2948e3b932ea9e936702a4",
            "47827342be544cf49f2061fcc8e5e7e2",
            "582274340f3a4523a6418553d90916c1",
            "fd7ac13075634c45869e0095d90608b6",
            "39343b83e90c4216a41b541e08fab077",
            "364f5b53b17340668703f5f3cfe69b5f",
            "4ac5c5686c284577bd2892f638872740",
            "bc2916564a24401c89367aee91cf5934",
            "a15670f722f74bc2aa5892a819c43988",
            "8713778a7a4a4a45b4dbe87862e56e5a",
            "b48faebc14e34a23b9230f367203bf8f",
            "8e0c0a8798dc4cab9a06b1f232d35d07",
            "4c96bae9df954e57a61502579b4e3b75",
            "5bda501b3847456e88960cb0dfd22681",
            "7728b5c6b98e4983879ef98f433f5483",
            "ed28d76d76ea4d0db7d07f66015fec28",
            "344e077dbfd8495c878841c0a41c970d",
            "41c66df401ee49b58229cfc0010b98cc",
            "3314025eb7534f6c82187fcf0d698c60"
          ]
        },
        "outputId": "7545d441-0763-4fe0-d017-2b9a1cefaf60"
      },
      "source": [
        "# Explicitly ask for tensor allocation on CUDA device :0\n",
        "classifier = pipeline(\"zero-shot-classification\", device=0)"
      ],
      "execution_count": null,
      "outputs": [
        {
          "output_type": "stream",
          "name": "stderr",
          "text": [
            "No model was supplied, defaulted to facebook/bart-large-mnli (https://huggingface.co/facebook/bart-large-mnli)\n"
          ]
        },
        {
          "output_type": "display_data",
          "data": {
            "application/vnd.jupyter.widget-view+json": {
              "model_id": "6acc0c12ede74f56ae2d2f6abceda90f",
              "version_minor": 0,
              "version_major": 2
            },
            "text/plain": [
              "Downloading:   0%|          | 0.00/1.13k [00:00<?, ?B/s]"
            ]
          },
          "metadata": {}
        },
        {
          "output_type": "display_data",
          "data": {
            "application/vnd.jupyter.widget-view+json": {
              "model_id": "2d3b8a758b984a68a863567b16a082fe",
              "version_minor": 0,
              "version_major": 2
            },
            "text/plain": [
              "Downloading:   0%|          | 0.00/1.52G [00:00<?, ?B/s]"
            ]
          },
          "metadata": {}
        },
        {
          "output_type": "display_data",
          "data": {
            "application/vnd.jupyter.widget-view+json": {
              "model_id": "52c1f261511c412ca80f2e1beea9d578",
              "version_minor": 0,
              "version_major": 2
            },
            "text/plain": [
              "Downloading:   0%|          | 0.00/26.0 [00:00<?, ?B/s]"
            ]
          },
          "metadata": {}
        },
        {
          "output_type": "display_data",
          "data": {
            "application/vnd.jupyter.widget-view+json": {
              "model_id": "24522f7c4ff0492fbd7d7da4ef3f05a9",
              "version_minor": 0,
              "version_major": 2
            },
            "text/plain": [
              "Downloading:   0%|          | 0.00/878k [00:00<?, ?B/s]"
            ]
          },
          "metadata": {}
        },
        {
          "output_type": "display_data",
          "data": {
            "application/vnd.jupyter.widget-view+json": {
              "model_id": "ce5576885d7947f1806dff4eccdfb5b1",
              "version_minor": 0,
              "version_major": 2
            },
            "text/plain": [
              "Downloading:   0%|          | 0.00/446k [00:00<?, ?B/s]"
            ]
          },
          "metadata": {}
        },
        {
          "output_type": "display_data",
          "data": {
            "application/vnd.jupyter.widget-view+json": {
              "model_id": "a15670f722f74bc2aa5892a819c43988",
              "version_minor": 0,
              "version_major": 2
            },
            "text/plain": [
              "Downloading:   0%|          | 0.00/1.29M [00:00<?, ?B/s]"
            ]
          },
          "metadata": {}
        }
      ]
    },
    {
      "cell_type": "code",
      "metadata": {
        "colab": {
          "base_uri": "https://localhost:8080/"
        },
        "id": "loDVpdHvP2XQ",
        "outputId": "a1e6fd65-5f8a-448e-9442-89e0a2df34a9"
      },
      "source": [
        "candidate_labels = \"\"\"Physical and meteorological environment,Soil and soil productivity,Vegetation,Water quality and quantity,Fish and fish habitat,Wetlands,Wildlife and wildlife habitat,Species at Risk or Species of Special Status and related habitat,Greenhouse gas (GHG) emissions and climate change,GHG Emissions and Climate Change – Assessment of Upstream GHG Emissions,Air emissions,Acoustic environment,Electromagnetism and Corona Discharge,Human occupancy and resource use,Heritage resources,Navigation and navigation safety,Traditional land and resource use,Social and cultural well-being,Human health and aesthetics,Infrastructure and services,Employment and economy,Environmental Obligations,Rights of Indigenous Peoples\"\"\".split(',')\n",
        "hypothesis_template = \"The data from this table is about {}.\"\n",
        "candidate_labels"
      ],
      "execution_count": null,
      "outputs": [
        {
          "output_type": "execute_result",
          "data": {
            "text/plain": [
              "['Physical and meteorological environment',\n",
              " 'Soil and soil productivity',\n",
              " 'Vegetation',\n",
              " 'Water quality and quantity',\n",
              " 'Fish and fish habitat',\n",
              " 'Wetlands',\n",
              " 'Wildlife and wildlife habitat',\n",
              " 'Species at Risk or Species of Special Status and related habitat',\n",
              " 'Greenhouse gas (GHG) emissions and climate change',\n",
              " 'GHG Emissions and Climate Change – Assessment of Upstream GHG Emissions',\n",
              " 'Air emissions',\n",
              " 'Acoustic environment',\n",
              " 'Electromagnetism and Corona Discharge',\n",
              " 'Human occupancy and resource use',\n",
              " 'Heritage resources',\n",
              " 'Navigation and navigation safety',\n",
              " 'Traditional land and resource use',\n",
              " 'Social and cultural well-being',\n",
              " 'Human health and aesthetics',\n",
              " 'Infrastructure and services',\n",
              " 'Employment and economy',\n",
              " 'Environmental Obligations',\n",
              " 'Rights of Indigenous Peoples']"
            ]
          },
          "metadata": {},
          "execution_count": 11
        }
      ]
    },
    {
      "cell_type": "markdown",
      "source": [
        "The following code cell sometimes helps when Colab's GPU is full. That said, I don't find it helps very much even though people mention it quite often in StackOverflow threads. \n",
        "\n",
        "Generally, if you get a CUDA error during inference or training, it will likely be because you've loaded too much data onto the GPU and it is out of space. To resolve this, you will need to do a Factory Reset of the notebook instance, which you can find in the Runtime tab. After this, you will need to rerun all of your code."
      ],
      "metadata": {
        "id": "N9TRFVGaaAvE"
      }
    },
    {
      "cell_type": "code",
      "metadata": {
        "id": "p5AbPnG318bj"
      },
      "source": [
        "import gc\n",
        "import torch\n",
        "\n",
        "gc.collect()\n",
        "\n",
        "torch.cuda.empty_cache()"
      ],
      "execution_count": null,
      "outputs": []
    },
    {
      "cell_type": "code",
      "metadata": {
        "colab": {
          "base_uri": "https://localhost:8080/",
          "height": 88
        },
        "id": "Ne-OdCs32Fyb",
        "outputId": "380daed5-e99e-49b8-b519-4e6f181871c4"
      },
      "source": [
        "torch.cuda.memory_summary(device=None, abbreviated=False)"
      ],
      "execution_count": null,
      "outputs": [
        {
          "output_type": "execute_result",
          "data": {
            "application/vnd.google.colaboratory.intrinsic+json": {
              "type": "string"
            },
            "text/plain": [
              "'|===========================================================================|\\n|                  PyTorch CUDA memory summary, device ID 0                 |\\n|---------------------------------------------------------------------------|\\n|            CUDA OOMs: 0            |        cudaMalloc retries: 0         |\\n|===========================================================================|\\n|        Metric         | Cur Usage  | Peak Usage | Tot Alloc  | Tot Freed  |\\n|---------------------------------------------------------------------------|\\n| Allocated memory      |    1553 MB |    1553 MB |    1553 MB |       0 B  |\\n|       from large pool |    1552 MB |    1552 MB |    1552 MB |       0 B  |\\n|       from small pool |       1 MB |       1 MB |       1 MB |       0 B  |\\n|---------------------------------------------------------------------------|\\n| Active memory         |    1553 MB |    1553 MB |    1553 MB |       0 B  |\\n|       from large pool |    1552 MB |    1552 MB |    1552 MB |       0 B  |\\n|       from small pool |       1 MB |       1 MB |       1 MB |       0 B  |\\n|---------------------------------------------------------------------------|\\n| GPU reserved memory   |    1580 MB |    1580 MB |    1580 MB |       0 B  |\\n|       from large pool |    1578 MB |    1578 MB |    1578 MB |       0 B  |\\n|       from small pool |       2 MB |       2 MB |       2 MB |       0 B  |\\n|---------------------------------------------------------------------------|\\n| Non-releasable memory |   26731 KB |   27664 KB |  609936 KB |  583204 KB |\\n|       from large pool |   26252 KB |   26252 KB |  607892 KB |  581640 KB |\\n|       from small pool |     479 KB |    2044 KB |    2044 KB |    1564 KB |\\n|---------------------------------------------------------------------------|\\n| Allocations           |     515    |     515    |     515    |       0    |\\n|       from large pool |     196    |     196    |     196    |       0    |\\n|       from small pool |     319    |     319    |     319    |       0    |\\n|---------------------------------------------------------------------------|\\n| Active allocs         |     515    |     515    |     515    |       0    |\\n|       from large pool |     196    |     196    |     196    |       0    |\\n|       from small pool |     319    |     319    |     319    |       0    |\\n|---------------------------------------------------------------------------|\\n| GPU reserved segments |      79    |      79    |      79    |       0    |\\n|       from large pool |      78    |      78    |      78    |       0    |\\n|       from small pool |       1    |       1    |       1    |       0    |\\n|---------------------------------------------------------------------------|\\n| Non-releasable allocs |       5    |       5    |      39    |      34    |\\n|       from large pool |       4    |       4    |      38    |      34    |\\n|       from small pool |       1    |       1    |       1    |       0    |\\n|---------------------------------------------------------------------------|\\n| Oversize allocations  |       0    |       0    |       0    |       0    |\\n|---------------------------------------------------------------------------|\\n| Oversize GPU segments |       0    |       0    |       0    |       0    |\\n|===========================================================================|\\n'"
            ]
          },
          "metadata": {},
          "execution_count": 13
        }
      ]
    },
    {
      "cell_type": "markdown",
      "source": [
        "Below is where we do inference on all of the table texts. Since there can be a lot of text in tables, we needed to cut down the length of words when creating the dataset, otherwise you will use up all the memory and inference will crash.\n",
        "\n",
        "However, this is not the only thing you need to worry about. When you are doing inference, you can actually to inference in \"batches\". This means that you are loading multiple examples of text at the same time onto the GPU. The more batches of data you load on the GPU at the same time, the faster your code will run. However, you also have the issue of running out of memory if you load too much data at once! So, if you get a \"CUDA out of memory\" type error, your first instinct should be to reduce the batch size. As you can see below in the following line:\n",
        "\n",
        "```\n",
        "for sequence_batch in tqdm(grouper(sequences, 2, \"\")):\n",
        "```\n",
        "\n",
        "I am only loading to examples at once! This is because more than two was too much for the Colab GPUs. Each GPU has different amounts of memory available, so they won't all have the same limit. In practice, this is just something you will need to play around with until you can find a \"batch size\" that doesn't overload the GPU, but still runs fast."
      ],
      "metadata": {
        "id": "J9fNbAH3avev"
      }
    },
    {
      "cell_type": "code",
      "metadata": {
        "id": "9F2Z8U3XYDSa",
        "colab": {
          "base_uri": "https://localhost:8080/"
        },
        "outputId": "94f0d65a-0213-426d-dc7c-510d0635be18"
      },
      "source": [
        "from itertools import zip_longest\n",
        " \n",
        "def grouper(iterable_obj, count, fillvalue=None):\n",
        "    args = [iter(iterable_obj)] * count\n",
        "    return zip_longest(*args, fillvalue=fillvalue)\n",
        "\n",
        "output = [] \n",
        "\n",
        "for sequence_batch in tqdm(grouper(sequences, 2, \"\")):\n",
        "    # print(sequence_batch)\n",
        "    output.append(classifier(sequence_batch, candidate_labels, hypothesis_template=hypothesis_template, multi_label=True))"
      ],
      "execution_count": null,
      "outputs": [
        {
          "output_type": "stream",
          "name": "stderr",
          "text": [
            "10it [00:08,  1.18it/s]/usr/local/lib/python3.7/dist-packages/transformers/pipelines/base.py:1079: UserWarning: You seem to be using the pipelines sequentially on GPU. In order to maximize efficiency please use a dataset\n",
            "  UserWarning,\n",
            "14446it [3:01:43,  1.32it/s]\n"
          ]
        }
      ]
    },
    {
      "cell_type": "markdown",
      "source": [
        "Phew! That took just a little over 3 hours.\n",
        "\n",
        "Now, let's check the output:"
      ],
      "metadata": {
        "id": "zrKeTC7JcTVM"
      }
    },
    {
      "cell_type": "code",
      "metadata": {
        "colab": {
          "base_uri": "https://localhost:8080/"
        },
        "id": "0RS5OvrhS-Km",
        "outputId": "ffa09ccd-f104-4862-ea54-2385b9f65246"
      },
      "source": [
        "output[0]"
      ],
      "execution_count": null,
      "outputs": [
        {
          "output_type": "execute_result",
          "data": {
            "text/plain": [
              "[{'labels': ['Water quality and quantity',\n",
              "   'Traditional land and resource use',\n",
              "   'Environmental Obligations',\n",
              "   'Rights of Indigenous Peoples',\n",
              "   'Heritage resources',\n",
              "   'Social and cultural well-being',\n",
              "   'Infrastructure and services',\n",
              "   'Species at Risk or Species of Special Status and related habitat',\n",
              "   'Human occupancy and resource use',\n",
              "   'GHG Emissions and Climate Change – Assessment of Upstream GHG Emissions',\n",
              "   'Soil and soil productivity',\n",
              "   'Physical and meteorological environment',\n",
              "   'Vegetation',\n",
              "   'Fish and fish habitat',\n",
              "   'Wetlands',\n",
              "   'Employment and economy',\n",
              "   'Human health and aesthetics',\n",
              "   'Wildlife and wildlife habitat',\n",
              "   'Greenhouse gas (GHG) emissions and climate change',\n",
              "   'Acoustic environment',\n",
              "   'Air emissions',\n",
              "   'Navigation and navigation safety',\n",
              "   'Electromagnetism and Corona Discharge'],\n",
              "  'scores': [0.7399547696113586,\n",
              "   0.05953020229935646,\n",
              "   0.01749674417078495,\n",
              "   0.01284861657768488,\n",
              "   0.005223275627940893,\n",
              "   0.0031445538625121117,\n",
              "   0.002707537729293108,\n",
              "   0.0022545878309756517,\n",
              "   0.0018304419936612248,\n",
              "   0.0013288146583363414,\n",
              "   0.001064104842953384,\n",
              "   0.00046849026693962514,\n",
              "   0.0003247453714720905,\n",
              "   0.0002799585636239499,\n",
              "   0.00023335863079410046,\n",
              "   0.00021237751934677362,\n",
              "   0.00017907316214405,\n",
              "   0.00017485429998487234,\n",
              "   0.00017281126929447055,\n",
              "   0.00016247096937149763,\n",
              "   0.00015768666344229132,\n",
              "   0.00012172618880867958,\n",
              "   0.00011683801130857319],\n",
              "  'sequence': 'TABLE 3 SUMMARY OF AQUATICS FIELD WORK AND ABORIGINAL FIELD STUDY PARTICIPATION FOR THE PROJECT Survey Date Aboriginal Communities Detail July 9 to 12 2011 Blueberry River First Nation Halfway River First Nation McLeod Lake Indian Band North East Mti'},\n",
              " {'labels': ['Fish and fish habitat',\n",
              "   'Wildlife and wildlife habitat',\n",
              "   'Water quality and quantity',\n",
              "   'Heritage resources',\n",
              "   'Environmental Obligations',\n",
              "   'Traditional land and resource use',\n",
              "   'Wetlands',\n",
              "   'Species at Risk or Species of Special Status and related habitat',\n",
              "   'Physical and meteorological environment',\n",
              "   'Infrastructure and services',\n",
              "   'Navigation and navigation safety',\n",
              "   'Acoustic environment',\n",
              "   'GHG Emissions and Climate Change – Assessment of Upstream GHG Emissions',\n",
              "   'Rights of Indigenous Peoples',\n",
              "   'Human occupancy and resource use',\n",
              "   'Social and cultural well-being',\n",
              "   'Electromagnetism and Corona Discharge',\n",
              "   'Vegetation',\n",
              "   'Employment and economy',\n",
              "   'Soil and soil productivity',\n",
              "   'Greenhouse gas (GHG) emissions and climate change',\n",
              "   'Air emissions',\n",
              "   'Human health and aesthetics'],\n",
              "  'scores': [0.8952215909957886,\n",
              "   0.7558441162109375,\n",
              "   0.3484191596508026,\n",
              "   0.006435988005250692,\n",
              "   0.005530545953661203,\n",
              "   0.005249249283224344,\n",
              "   0.0021231777500361204,\n",
              "   0.002071751980111003,\n",
              "   0.0015520320739597082,\n",
              "   0.0009201011853292584,\n",
              "   0.0006086957873776555,\n",
              "   0.000593900796957314,\n",
              "   0.00046070045209489763,\n",
              "   0.0004390984831843525,\n",
              "   0.00031424639746546745,\n",
              "   0.000238647626247257,\n",
              "   0.00022921022900845855,\n",
              "   0.00018759725207928568,\n",
              "   0.00012014396634185687,\n",
              "   0.00011199794244021177,\n",
              "   9.95527152554132e-05,\n",
              "   9.866871550912037e-05,\n",
              "   6.851329817436635e-05],\n",
              "  'sequence': 'TABLE 4 SUMMARY OF WATERCOURSE CROSSINGS ALONG THE NORTH MONTNEY MAINLINE AITKEN CREEK SECTION Field Site No Name Legal Location UTM Coordinates NAD83 Zone 10 LatitudeLongitude DDMMSS Elevation m asl Fish Stream Classification 17 Fish and Wildlife Ti'}]"
            ]
          },
          "metadata": {},
          "execution_count": 16
        }
      ]
    },
    {
      "cell_type": "markdown",
      "source": [
        "As you can see, we have a list of the VC labels along with a corresponding list of confidence scores. The closer the confidence score is to 1, the more likely the table should be labeled as that VC. Closer to 0 means it shouldn't be labeled that VC."
      ],
      "metadata": {
        "id": "MsN-rvbvcdQt"
      }
    },
    {
      "cell_type": "code",
      "metadata": {
        "id": "YbaOlI23wPEE"
      },
      "source": [
        "# Since we have a list of lists for the outputs (because inference was done in batches), we need to flatten the lists together into one.\n",
        "flatOutput = [item for elem in output for item in elem]"
      ],
      "execution_count": null,
      "outputs": []
    },
    {
      "cell_type": "markdown",
      "source": [
        "# Saving the Predictions in a Pickle File"
      ],
      "metadata": {
        "id": "KEBK8eH_cyln"
      }
    },
    {
      "cell_type": "code",
      "metadata": {
        "id": "-_X0rMIzw4Jl"
      },
      "source": [
        "with open(f'{pickled_dataset}.pkl', 'wb') as f:\n",
        "  pickle.dump(flatOutput, f)"
      ],
      "execution_count": null,
      "outputs": []
    },
    {
      "cell_type": "markdown",
      "source": [
        "We don't want to have to rerun inference every time if we don't have to, so let's make sure to save the predictions for future use and experimentation."
      ],
      "metadata": {
        "id": "Nlbu10V3c5mq"
      }
    },
    {
      "cell_type": "markdown",
      "source": [
        "# Loading the Predictions from the Pickle File"
      ],
      "metadata": {
        "id": "JB9cCF8cc2Gz"
      }
    },
    {
      "cell_type": "code",
      "metadata": {
        "id": "8qe26VkfvX7O"
      },
      "source": [
        "infile = open(f'{pickled_dataset}.pkl', 'rb')\n",
        "zs_vcs_dict_list = pickle.load(infile)\n",
        "infile.close()"
      ],
      "execution_count": null,
      "outputs": []
    },
    {
      "cell_type": "code",
      "metadata": {
        "colab": {
          "base_uri": "https://localhost:8080/"
        },
        "id": "2l7lupmVwiAl",
        "outputId": "3df6ad31-135a-4ea9-ab1f-1b4e715c0fa0"
      },
      "source": [
        "zs_vcs_dict_list[0]"
      ],
      "execution_count": null,
      "outputs": [
        {
          "output_type": "execute_result",
          "data": {
            "text/plain": [
              "{'labels': ['Water quality and quantity',\n",
              "  'Traditional land and resource use',\n",
              "  'Environmental Obligations',\n",
              "  'Rights of Indigenous Peoples',\n",
              "  'Heritage resources',\n",
              "  'Social and cultural well-being',\n",
              "  'Infrastructure and services',\n",
              "  'Species at Risk or Species of Special Status and related habitat',\n",
              "  'Human occupancy and resource use',\n",
              "  'GHG Emissions and Climate Change – Assessment of Upstream GHG Emissions',\n",
              "  'Soil and soil productivity',\n",
              "  'Physical and meteorological environment',\n",
              "  'Vegetation',\n",
              "  'Fish and fish habitat',\n",
              "  'Wetlands',\n",
              "  'Employment and economy',\n",
              "  'Human health and aesthetics',\n",
              "  'Wildlife and wildlife habitat',\n",
              "  'Greenhouse gas (GHG) emissions and climate change',\n",
              "  'Acoustic environment',\n",
              "  'Air emissions',\n",
              "  'Navigation and navigation safety',\n",
              "  'Electromagnetism and Corona Discharge'],\n",
              " 'scores': [0.7399547696113586,\n",
              "  0.05953020229935646,\n",
              "  0.01749674417078495,\n",
              "  0.01284861657768488,\n",
              "  0.005223275627940893,\n",
              "  0.0031445538625121117,\n",
              "  0.002707537729293108,\n",
              "  0.0022545878309756517,\n",
              "  0.0018304419936612248,\n",
              "  0.0013288146583363414,\n",
              "  0.001064104842953384,\n",
              "  0.00046849026693962514,\n",
              "  0.0003247453714720905,\n",
              "  0.0002799585636239499,\n",
              "  0.00023335863079410046,\n",
              "  0.00021237751934677362,\n",
              "  0.00017907316214405,\n",
              "  0.00017485429998487234,\n",
              "  0.00017281126929447055,\n",
              "  0.00016247096937149763,\n",
              "  0.00015768666344229132,\n",
              "  0.00012172618880867958,\n",
              "  0.00011683801130857319],\n",
              " 'sequence': 'TABLE 3 SUMMARY OF AQUATICS FIELD WORK AND ABORIGINAL FIELD STUDY PARTICIPATION FOR THE PROJECT Survey Date Aboriginal Communities Detail July 9 to 12 2011 Blueberry River First Nation Halfway River First Nation McLeod Lake Indian Band North East Mti'}"
            ]
          },
          "metadata": {},
          "execution_count": 18
        }
      ]
    },
    {
      "cell_type": "code",
      "metadata": {
        "colab": {
          "base_uri": "https://localhost:8080/"
        },
        "id": "qSKSYIm5wr5Z",
        "outputId": "0c90c327-e908-422e-89a2-1d9367446ace"
      },
      "source": [
        "len(zs_vcs_dict_list)"
      ],
      "execution_count": null,
      "outputs": [
        {
          "output_type": "execute_result",
          "data": {
            "text/plain": [
              "28892"
            ]
          },
          "metadata": {},
          "execution_count": 22
        }
      ]
    },
    {
      "cell_type": "markdown",
      "source": [
        "Now, let's prepare our data so that is can be placed in a Pandas DataFrame.\n",
        "\n",
        "Note: I excluded the last element from the loop since it's an empty string."
      ],
      "metadata": {
        "id": "KxLfcxAXhOVE"
      }
    },
    {
      "cell_type": "code",
      "metadata": {
        "id": "cR4YTbLuvvtJ"
      },
      "source": [
        "vcs = []\n",
        "scores = []\n",
        "texts = []\n",
        "for i in range(0, len(zs_vcs_dict_list) - 1):\n",
        "  vcs.append(zs_vcs_dict_list[i]['labels'])\n",
        "  scores.append(zs_vcs_dict_list[i]['scores'])\n",
        "  texts.append(zs_vcs_dict_list[i]['sequence'])"
      ],
      "execution_count": null,
      "outputs": []
    },
    {
      "cell_type": "code",
      "metadata": {
        "colab": {
          "base_uri": "https://localhost:8080/",
          "height": 423
        },
        "id": "rO4n3M2EQBNj",
        "outputId": "10295aea-5807-4786-d04a-d1ca60e7f13c"
      },
      "source": [
        "d = {'vcs': vcs, 'scores': scores, 'texts': texts}\n",
        "df_output = pd.DataFrame(data=d)\n",
        "df_output"
      ],
      "execution_count": null,
      "outputs": [
        {
          "output_type": "execute_result",
          "data": {
            "text/html": [
              "<div>\n",
              "<style scoped>\n",
              "    .dataframe tbody tr th:only-of-type {\n",
              "        vertical-align: middle;\n",
              "    }\n",
              "\n",
              "    .dataframe tbody tr th {\n",
              "        vertical-align: top;\n",
              "    }\n",
              "\n",
              "    .dataframe thead th {\n",
              "        text-align: right;\n",
              "    }\n",
              "</style>\n",
              "<table border=\"1\" class=\"dataframe\">\n",
              "  <thead>\n",
              "    <tr style=\"text-align: right;\">\n",
              "      <th></th>\n",
              "      <th>vcs</th>\n",
              "      <th>scores</th>\n",
              "      <th>texts</th>\n",
              "    </tr>\n",
              "  </thead>\n",
              "  <tbody>\n",
              "    <tr>\n",
              "      <th>0</th>\n",
              "      <td>[Water quality and quantity, Traditional land ...</td>\n",
              "      <td>[0.7399547696113586, 0.05953020229935646, 0.01...</td>\n",
              "      <td>TABLE 3 SUMMARY OF AQUATICS FIELD WORK AND ABO...</td>\n",
              "    </tr>\n",
              "    <tr>\n",
              "      <th>1</th>\n",
              "      <td>[Fish and fish habitat, Wildlife and wildlife ...</td>\n",
              "      <td>[0.8952215909957886, 0.7558441162109375, 0.348...</td>\n",
              "      <td>TABLE 4 SUMMARY OF WATERCOURSE CROSSINGS ALONG...</td>\n",
              "    </tr>\n",
              "    <tr>\n",
              "      <th>2</th>\n",
              "      <td>[Fish and fish habitat, Wildlife and wildlife ...</td>\n",
              "      <td>[0.8952215909957886, 0.7558441162109375, 0.348...</td>\n",
              "      <td>TABLE 4 SUMMARY OF WATERCOURSE CROSSINGS ALONG...</td>\n",
              "    </tr>\n",
              "    <tr>\n",
              "      <th>3</th>\n",
              "      <td>[Fish and fish habitat, Wildlife and wildlife ...</td>\n",
              "      <td>[0.8952215909957886, 0.7558441162109375, 0.348...</td>\n",
              "      <td>TABLE 4 SUMMARY OF WATERCOURSE CROSSINGS ALONG...</td>\n",
              "    </tr>\n",
              "    <tr>\n",
              "      <th>4</th>\n",
              "      <td>[Fish and fish habitat, Wildlife and wildlife ...</td>\n",
              "      <td>[0.8952215909957886, 0.7558441162109375, 0.348...</td>\n",
              "      <td>TABLE 4 SUMMARY OF WATERCOURSE CROSSINGS ALONG...</td>\n",
              "    </tr>\n",
              "    <tr>\n",
              "      <th>...</th>\n",
              "      <td>...</td>\n",
              "      <td>...</td>\n",
              "      <td>...</td>\n",
              "    </tr>\n",
              "    <tr>\n",
              "      <th>28886</th>\n",
              "      <td>[Traditional land and resource use, Environmen...</td>\n",
              "      <td>[0.2083447426557541, 0.17277342081069946, 0.10...</td>\n",
              "      <td>TABLE 1 GENERAL LAND USE AND ENVIRONMENTAL SET...</td>\n",
              "    </tr>\n",
              "    <tr>\n",
              "      <th>28887</th>\n",
              "      <td>[Species at Risk or Species of Special Status ...</td>\n",
              "      <td>[0.9934717416763306, 0.5959182977676392, 0.550...</td>\n",
              "      <td>TABLE 2 OCCURRENCES OF SPECIES WITH SPECIAL CO...</td>\n",
              "    </tr>\n",
              "    <tr>\n",
              "      <th>28888</th>\n",
              "      <td>[Species at Risk or Species of Special Status ...</td>\n",
              "      <td>[0.990873396396637, 0.6361707448959351, 0.4615...</td>\n",
              "      <td>TABLE 2 OCCURRENCES OF SPECIES WITH SPECIAL CO...</td>\n",
              "    </tr>\n",
              "    <tr>\n",
              "      <th>28889</th>\n",
              "      <td>[Species at Risk or Species of Special Status ...</td>\n",
              "      <td>[0.9845494031906128, 0.3557242751121521, 0.196...</td>\n",
              "      <td>TABLE 2 OCCURRENCES OF SPECIES WITH SPECIAL CO...</td>\n",
              "    </tr>\n",
              "    <tr>\n",
              "      <th>28890</th>\n",
              "      <td>[Species at Risk or Species of Special Status ...</td>\n",
              "      <td>[0.9786601066589355, 0.5040464401245117, 0.115...</td>\n",
              "      <td>TABLE 3 SUMMARY OF POTENTIAL SPECIES WITH SPEC...</td>\n",
              "    </tr>\n",
              "  </tbody>\n",
              "</table>\n",
              "<p>28891 rows × 3 columns</p>\n",
              "</div>"
            ],
            "text/plain": [
              "                                                     vcs  ...                                              texts\n",
              "0      [Water quality and quantity, Traditional land ...  ...  TABLE 3 SUMMARY OF AQUATICS FIELD WORK AND ABO...\n",
              "1      [Fish and fish habitat, Wildlife and wildlife ...  ...  TABLE 4 SUMMARY OF WATERCOURSE CROSSINGS ALONG...\n",
              "2      [Fish and fish habitat, Wildlife and wildlife ...  ...  TABLE 4 SUMMARY OF WATERCOURSE CROSSINGS ALONG...\n",
              "3      [Fish and fish habitat, Wildlife and wildlife ...  ...  TABLE 4 SUMMARY OF WATERCOURSE CROSSINGS ALONG...\n",
              "4      [Fish and fish habitat, Wildlife and wildlife ...  ...  TABLE 4 SUMMARY OF WATERCOURSE CROSSINGS ALONG...\n",
              "...                                                  ...  ...                                                ...\n",
              "28886  [Traditional land and resource use, Environmen...  ...  TABLE 1 GENERAL LAND USE AND ENVIRONMENTAL SET...\n",
              "28887  [Species at Risk or Species of Special Status ...  ...  TABLE 2 OCCURRENCES OF SPECIES WITH SPECIAL CO...\n",
              "28888  [Species at Risk or Species of Special Status ...  ...  TABLE 2 OCCURRENCES OF SPECIES WITH SPECIAL CO...\n",
              "28889  [Species at Risk or Species of Special Status ...  ...  TABLE 2 OCCURRENCES OF SPECIES WITH SPECIAL CO...\n",
              "28890  [Species at Risk or Species of Special Status ...  ...  TABLE 3 SUMMARY OF POTENTIAL SPECIES WITH SPEC...\n",
              "\n",
              "[28891 rows x 3 columns]"
            ]
          },
          "metadata": {},
          "execution_count": 20
        }
      ]
    },
    {
      "cell_type": "markdown",
      "source": [
        "Now, we could set a scoring threshold to decide whether we want to label the table with a VC or not. For example, we could say that all scores under 0.6 should not label the text."
      ],
      "metadata": {
        "id": "49rB9yWUhZcB"
      }
    },
    {
      "cell_type": "code",
      "source": [
        ""
      ],
      "metadata": {
        "id": "66K6Dgv9h6WI"
      },
      "execution_count": null,
      "outputs": []
    }
  ]
}